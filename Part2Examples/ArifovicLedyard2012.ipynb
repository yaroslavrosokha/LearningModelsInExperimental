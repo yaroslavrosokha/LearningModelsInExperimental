{
 "cells": [
  {
   "cell_type": "markdown",
   "id": "c1175c6a",
   "metadata": {},
   "source": [
    "# <center> Replication of Arifovic and Ledyard (2012 JPUBE) </center>\n",
    "### <center> Code by Yaroslav Rosokha </center>"
   ]
  },
  {
   "cell_type": "code",
   "execution_count": 25,
   "id": "1c85c176",
   "metadata": {
    "ExecuteTime": {
     "end_time": "2023-06-12T15:23:28.230037Z",
     "start_time": "2023-06-12T15:23:28.161060Z"
    }
   },
   "outputs": [],
   "source": [
    "import numpy as np\n",
    "import copy as cp\n",
    "import matplotlib.pyplot as plt\n",
    "import time"
   ]
  },
  {
   "cell_type": "code",
   "execution_count": 26,
   "id": "4c0ff159",
   "metadata": {
    "ExecuteTime": {
     "end_time": "2023-06-12T15:23:36.281046Z",
     "start_time": "2023-06-12T15:23:36.224858Z"
    }
   },
   "outputs": [],
   "source": [
    "def payoffs(C,m=.3,p=1,w=10): \n",
    "    '''\n",
    "    C -- matrix of contribution proportions (number of groups)x(number of players per group)\n",
    "    m -- marginal product of public good (varied in the paper)\n",
    "    w -- endowment (set to 10)\n",
    "    p -- marginal willingness to pay (set constant 1 across all subjects)\n",
    "    \n",
    "    returns matrix of payoffs of the same shape as C\n",
    "    '''\n",
    "    n_groups,n_players = C.shape\n",
    "    Y=m*w*C.sum(axis=1).repeat(n_players).reshape((n_groups,n_players))\n",
    "    \n",
    "    return p*w*(1-C)+Y #notice that strategies in C are normalized to be between 0 and 1 so multiplied by w"
   ]
  },
  {
   "cell_type": "code",
   "execution_count": 27,
   "id": "6264b233",
   "metadata": {
    "ExecuteTime": {
     "end_time": "2023-06-12T15:23:40.171942Z",
     "start_time": "2023-06-12T15:23:40.092270Z"
    }
   },
   "outputs": [],
   "source": [
    "def utility(C,BETA=0,GAMMA=0,m=.3):\n",
    "    ''' \n",
    "    C -- matrix of contribution proportions (number of groups)x(number of players per group)\n",
    "    m -- marginal product of public good (varied in the paper)\n",
    "    BETA -- matrix of individual betas (if all are the same then can use one number)\n",
    "    GAMMA -- matrix of individual gammas (if all are the same then can use one number)\n",
    "    '''\n",
    "    \n",
    "    n_groups,n_players = C.shape\n",
    "    P = payoffs(C,m=m)\n",
    "    AVERAGE = P.mean(axis=1).repeat(n_players).reshape((n_groups,n_players))\n",
    "    return P+BETA*AVERAGE-GAMMA*np.maximum(0,AVERAGE-P)"
   ]
  },
  {
   "cell_type": "code",
   "execution_count": 28,
   "id": "da183d20",
   "metadata": {
    "ExecuteTime": {
     "end_time": "2023-06-12T15:23:42.741741Z",
     "start_time": "2023-06-12T15:23:42.652203Z"
    }
   },
   "outputs": [],
   "source": [
    "def counter_factual(matching,c,A,betas,gammas,m=.3): \n",
    "    '''\n",
    "    matching -- matrix of indices. each row corresponds to a game.\n",
    "    c -- contributions by players vector with 1 entry for each player.\n",
    "    m -- marginal product of public good (varied in the paper)\n",
    "    A -- set of normalized strategies with number of rows equal to number of players in the population and number of columns equal to number of strategies\n",
    "    '''\n",
    "    \n",
    "    n_groups,n_players = matching.shape # shape - attribute of any numpy array (gives its dimension)\n",
    "    strategies_in_set = A.shape[1]\n",
    "    out = np.zeros_like(A)\n",
    "    \n",
    "    #Go through every column of the matching matrix\n",
    "    for i in range(n_players):    \n",
    "        others = np.delete(matching,i,axis=1) #get index ids of other players that you are matched with\n",
    "        repeated_others = np.repeat(others,strategies_in_set,axis=0) #repeat so that can merge with J strategies in the set\n",
    "        n_entries=repeated_others.shape[0]\n",
    "        players = matching[:,i]\n",
    "        repeated_players = np.repeat(players,strategies_in_set,axis=0).reshape((n_entries,1))\n",
    "        repeated_all = np.hstack((repeated_players,repeated_others))\n",
    "\n",
    "        ci= A[players,:].reshape((n_entries,1))\n",
    "        C = np.hstack((ci,c[repeated_others]))\n",
    "        B = betas[repeated_all]\n",
    "        G = gammas[repeated_all]\n",
    "\n",
    "        out[players,:] = utility(C,B,G,m)[:,0].reshape((n_groups,strategies_in_set)) #<- first column is the relevant one      \n",
    "    \n",
    "    return out"
   ]
  },
  {
   "cell_type": "code",
   "execution_count": 29,
   "id": "b5e84c08",
   "metadata": {
    "ExecuteTime": {
     "end_time": "2023-06-12T15:23:46.807705Z",
     "start_time": "2023-06-12T15:23:46.768455Z"
    }
   },
   "outputs": [],
   "source": [
    "class population():\n",
    "    \n",
    "    def __init__(self,m=.3,w=10,session_size=10000,players_per_game=4,strategies_in_set=100):\n",
    "        ''' \n",
    "        m -- marginal product of public good (varied in the paper)\n",
    "        session_size -- number of agents\n",
    "        strategies_in_set -- number of strategies for each agent (in paper it is J=100)\n",
    "        '''\n",
    "        \n",
    "        #VCM parameters\n",
    "        self.m=m\n",
    "        self.w=w\n",
    "        \n",
    "        #Session and game sizes (i.e., number of agents and how they are divided into games)\n",
    "        self.session_size=session_size\n",
    "        self.players_per_game=players_per_game\n",
    "        self.simulteneous_games = int(session_size / players_per_game)\n",
    "        self.matching = np.arange(session_size).reshape(self.simulteneous_games,self.players_per_game)\n",
    "        \n",
    "        #initialize all players and their strategies\n",
    "        self.j = strategies_in_set\n",
    "        self.A = np.random.uniform(size=(session_size,strategies_in_set)) # (n players, n strategies for each player)\n",
    "        self.V = np.zeros_like(self.A) #initialize values associated with strategies to 0\n",
    "        self.c = self.A[:,0].copy() #<-- since initial actions are random just pick the first element in A_i for each player\n",
    "        \n",
    "        #initialize population of preferences\n",
    "        selfish = np.random.binomial(1,1-.48,size=self.session_size)\n",
    "        self.betas = 22*np.random.uniform(size=self.session_size)*selfish\n",
    "        self.gammas = 8*np.random.uniform(size=self.session_size)*selfish\n",
    "        \n",
    "    def experimentation(self):\n",
    "        select=np.random.binomial(1,.033,size=(self.session_size,self.j))\n",
    "        mut=np.random.randn(self.session_size,self.j)*.1\n",
    "        self.A+=select*mut\n",
    "        self.A=np.minimum(np.maximum(self.A,0),1)\n",
    "        \n",
    "    def replication(self):\n",
    "        self.V = counter_factual(self.matching,self.c,self.A,self.betas,self.gammas,m=self.m)\n",
    "        for i in range(self.session_size):\n",
    "            pick1=np.random.randint(self.j,size=self.j)\n",
    "            pick2=np.random.randint(self.j,size=self.j)\n",
    "            select = (self.V[i,pick1]>=self.V[i,pick2])*1\n",
    "            self.A[i] = self.A[i,pick1]*select+self.A[i,pick2]*(1-select)\n",
    "            self.V[i] = self.V[i,pick1]*select+self.V[i,pick2]*(1-select)\n",
    "            \n",
    "    def selection(self):\n",
    "        for i in range(self.session_size):\n",
    "            norm=self.V[i]-self.V[i].min()\n",
    "            if norm.sum()>0:\n",
    "                prob = norm/norm.sum()\n",
    "            else:\n",
    "                prob = np.ones_like(norm)/self.j\n",
    "            self.c[i] = np.random.choice(self.A[i],size=1,p=prob)\n",
    "            \n",
    "    def supergame(self,T):\n",
    "        #create new matching for the supergame\n",
    "        flat_matching = self.matching.flatten()\n",
    "        np.random.shuffle(flat_matching)\n",
    "        self.matching = flat_matching.reshape(self.simulteneous_games,self.players_per_game)\n",
    "        \n",
    "        self.average_contribution = np.zeros(T)\n",
    "        for t in range(T):\n",
    "            self.selection()\n",
    "            self.average_contribution[t]=self.w*self.c.mean()\n",
    "            self.experimentation()\n",
    "            self.replication()\n",
    "            \n",
    "        return self.average_contribution"
   ]
  },
  {
   "cell_type": "code",
   "execution_count": 30,
   "id": "8f6cdcfa",
   "metadata": {
    "ExecuteTime": {
     "end_time": "2023-06-12T15:25:14.003218Z",
     "start_time": "2023-06-12T15:23:50.990556Z"
    }
   },
   "outputs": [
    {
     "name": "stdout",
     "output_type": "stream",
     "text": [
      "Took 82.5 seconds to run\n"
     ]
    },
    {
     "data": {
      "image/png": "[encoded data removed]",
      "text/plain": [
       "<Figure size 640x480 with 1 Axes>"
      ]
     },
     "metadata": {},
     "output_type": "display_data"
    }
   ],
   "source": [
    "start_t=time.time()\n",
    "n_rounds = 10\n",
    "pop1 = population(m=.3,players_per_game=4)\n",
    "treat1 = pop1.supergame(n_rounds)\n",
    "pop2 = population(m=.75,players_per_game=4)\n",
    "treat2 = pop2.supergame(n_rounds)\n",
    "end_t = time.time()\n",
    "print(\"Took {:.1f} seconds to run\".format(end_t-start_t))\n",
    "\n",
    "plt.plot(np.arange(1,n_rounds+1),treat1,'orange')\n",
    "plt.plot(np.arange(1,n_rounds+1),treat2,'blue')\n",
    "plt.ylim(0,7)\n",
    "plt.title(\"Figure 1 Simulations in Arifovic & Ledyard 2012\")\n",
    "plt.show()"
   ]
  },
  {
   "cell_type": "code",
   "execution_count": 31,
   "id": "d0600afd",
   "metadata": {
    "ExecuteTime": {
     "end_time": "2023-06-12T15:26:34.098731Z",
     "start_time": "2023-06-12T15:25:14.018983Z"
    }
   },
   "outputs": [
    {
     "name": "stdout",
     "output_type": "stream",
     "text": [
      "Took 79.8 seconds to run\n"
     ]
    },
    {
     "data": {
      "image/png": "[encoded data removed]",
      "text/plain": [
       "<Figure size 640x480 with 1 Axes>"
      ]
     },
     "metadata": {},
     "output_type": "display_data"
    }
   ],
   "source": [
    "start_t=time.time()\n",
    "n_rounds = 10\n",
    "pop1 = population(m=.3,players_per_game=10)\n",
    "treat1 = pop1.supergame(n_rounds)\n",
    "pop2 = population(m=.75,players_per_game=10)\n",
    "treat2 = pop2.supergame(n_rounds)\n",
    "end_t = time.time()\n",
    "print(\"Took {:.1f} seconds to run\".format(end_t-start_t))\n",
    "\n",
    "plt.plot(np.arange(1,n_rounds+1),treat1,'orange')\n",
    "plt.plot(np.arange(1,n_rounds+1),treat2,'blue')\n",
    "plt.ylim(0,7)\n",
    "plt.title(\"Figure 2 Simulations in Arifovic & Ledyard 2012\")\n",
    "plt.show()"
   ]
  },
  {
   "cell_type": "code",
   "execution_count": 21,
   "id": "a629b406",
   "metadata": {
    "ExecuteTime": {
     "end_time": "2023-06-11T17:54:02.874903Z",
     "start_time": "2023-06-11T17:53:04.513190Z"
    }
   },
   "outputs": [],
   "source": []
  }
 ],
 "metadata": {
  "kernelspec": {
   "display_name": "Python 3 (ipykernel)",
   "language": "python",
   "name": "python3"
  },
  "language_info": {
   "codemirror_mode": {
    "name": "ipython",
    "version": 3
   },
   "file_extension": ".py",
   "mimetype": "text/x-python",
   "name": "python",
   "nbconvert_exporter": "python",
   "pygments_lexer": "ipython3",
   "version": "3.9.13"
  }
 },
 "nbformat": 4,
 "nbformat_minor": 5
}
