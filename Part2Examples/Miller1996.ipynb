{
 "cells": [
  {
   "cell_type": "markdown",
   "metadata": {},
   "source": [
    "# <center> Replication of Simulations from Miller (1996 JEDC) </center>\n",
    "### <center> Code by Yaroslav Rosokha </center>"
   ]
  },
  {
   "cell_type": "code",
   "execution_count": 13,
   "metadata": {},
   "outputs": [
    {
     "data": {
      "text/html": [
       "<style>.container { width:100% !important; }</style>"
      ],
      "text/plain": [
       "<IPython.core.display.HTML object>"
      ]
     },
     "metadata": {},
     "output_type": "display_data"
    }
   ],
   "source": [
    "import numpy as np\n",
    "import copy\n",
    "import matplotlib.pyplot as plt\n",
    "import time\n",
    "%matplotlib inline\n",
    "from IPython.core.display import display, HTML\n",
    "display(HTML(\"<style>.container { width:100% !important; }</style>\"))"
   ]
  },
  {
   "cell_type": "code",
   "execution_count": 23,
   "metadata": {
    "collapsed": true
   },
   "outputs": [],
   "source": [
    "class population():\n",
    "    \n",
    "    def __init__(self,N,alpha):\n",
    "        self.N=N #Number of agents in the population\n",
    "        self.alpha=alpha # Fraction of mistakes (in the paper it takes on 0.00, 0.01, and 0.05)\n",
    "        self.Gen=np.random.randint(low=0,high=2,size=(N,148)) #Generate population of N agents using numpy. Each agent is represented by 148 bits.\n",
    "        self.newGen=np.random.randint(low=0,high=2,size=(N,148)) #Allocate space for next generation (Needed for transition from one generation to the next)\n",
    "        self.G=[[3,0],[5,1]] #Game payoffs\n",
    "        self.P=np.zeros((N,N)) #Allocate space for payoffs when playing each agent against each other.\n",
    "        \n",
    "    def getAutomatInfo(self):\n",
    "        #Convert generation to automatons (starting state, states, transitions)\n",
    "        self.S=np.array([''.join([str(i) for i in x]) for x in self.Gen]) #Obtain a string of 0s and 1s with .join() and list comprehension\n",
    "        self.start=[int(x[0:4],2) for x in self.S] #Extract starting state and covert to integer\n",
    "        self.states=[[int(x[4+n*9]) for n in range(16)] for x in self.S] #Extract each of the states and convert to integers\n",
    "        self.trans={0:[[int(x[(5+n*9):(5+(n)*9+4)],2) for n in range(16)] for x in self.S],\\\n",
    "               1:[[int(x[(9+n*9):(9+(n)*9+4)],2) for n in range(16)] for x in self.S]} #Extract transition to after the other plays 0s or 1s\n",
    "\n",
    "    def playGame(self,ind1,ind2):\n",
    "        p1,p2=0,0 #initialize payoffs\n",
    "        s1,s2=self.start[ind1],self.start[ind2] #start in the starting states   \n",
    "        for i in range(150): #simulate for 150 periods\n",
    "            a1=self.states[ind1][s1] #get action 1\n",
    "            if np.random.random()<self.alpha:a1=1-a1#noisy decision\n",
    "            a2=self.states[ind2][s2] #get action 2\n",
    "            if np.random.random()<self.alpha:a2=1-a2#noisy decision\n",
    "            p1+=self.G[a1][a2] #get payoff for agent 1\n",
    "            p2+=self.G[a2][a1] #get payoff for agent 2\n",
    "            s1,s2=self.trans[a2][ind1][s1],self.trans[a1][ind2][s2] #get next state\n",
    "        return [p1,p2] #return total payoffs\n",
    "    \n",
    "    def evalFitness(self):\n",
    "        for i in range(self.N):\n",
    "            for j in range(i,self.N):\n",
    "                self.P[i,j],self.P[j,i]=self.playGame(i,j)\n",
    "        return [self.P.sum(axis=1),self.P.sum()/(N*N*150)] #Return an array of payoffs as well as average payoff per period\n",
    "    \n",
    "    def evolve(self,nGen):\n",
    "        results=np.zeros(nGen)\n",
    "        for t in range(nGen):\n",
    "            self.getAutomatInfo()\n",
    "            fit,results[t]=self.evalFitness()\n",
    "        \n",
    "            #Copy top 20 parents\n",
    "            top20=fit.argsort()[-20:][::-1]\n",
    "            self.newGen[range(20)]=self.Gen[top20]\n",
    "            \n",
    "            #Normalize (see footnote 7 in the paper)\n",
    "            fit20=fit[top20]\n",
    "            if fit20.std()!=0:\n",
    "                fit20=(fit20-fit20.mean())/fit20.std()+2\n",
    "                fit20[fit20<0]=0\n",
    "\n",
    "            #Remaining 10 are children\n",
    "            parents=np.random.choice(range(20),p=fit20/fit20.sum(),size=(5,2)) #Get parents based on fitness criteria\n",
    "            for i in range(5):\n",
    "                p1,p2=self.Gen[parents[i,0]],self.Gen[parents[i,1]] #Get parents arrays\n",
    "                cPoint=1+np.random.randint(147) #148-1 so that crossover occurs within the string\n",
    "                ch1=np.concatenate([p1[0:cPoint],p2[cPoint:148]]) #Child 1 from crossover\n",
    "                ch2=np.concatenate([p2[0:cPoint],p1[cPoint:148]]) #Child 2 from crossover\n",
    "                mut1=np.random.choice([0,1],p=[.995,.005],size=148) #Get mutation array 1\n",
    "                mut2=np.random.choice([0,1],p=[.995,.005],size=148) #Get mutation array 2\n",
    "                ch1[mut1==1]=1-ch1[mut1==1] #flip 1 into 0 and 0 into 1 for those that have mut1 1\n",
    "                ch2[mut2==1]=1-ch2[mut2==1] #flip 1 into 0 and 0 into 1 for those that have mut2 1\n",
    "                self.newGen[20+i*2],self.newGen[20+i*2+1]=ch1,ch2 #assign the two childred to the new generation\n",
    "            \n",
    "            self.Gen=copy.deepcopy(self.newGen) #save newGen as Gen\n",
    "                \n",
    "        return results"
   ]
  },
  {
   "cell_type": "code",
   "execution_count": 24,
   "metadata": {},
   "outputs": [
    {
     "name": "stdout",
     "output_type": "stream",
     "text": [
      "50 x 3  simulations of population of size  30  over  50  generations took  503.637000084  seconds.\n"
     ]
    }
   ],
   "source": [
    "#Run simulation\n",
    "N=30 #Number of players\n",
    "nSim=50 #Number of simulations\n",
    "nGen=50 #Number of generations\n",
    "noise=[0,.01,.05]\n",
    "t1=time.time()\n",
    "results=[[population(N,a).evolve(nGen) for i in range(nSim)] for a in noise]\n",
    "t2=time.time()\n",
    "print(nSim,\"x\",len(noise),\" simulations of population of size \",N,\" over \",nGen,\" generations took \",t2-t1,\" seconds.\")"
   ]
  },
  {
   "cell_type": "code",
   "execution_count": 25,
   "metadata": {},
   "outputs": [
    {
     "data": {
      "image/png": "[encoded data removed]",
      "text/plain": [
       "<matplotlib.figure.Figure at 0x7f7be48>"
      ]
     },
     "metadata": {},
     "output_type": "display_data"
    }
   ],
   "source": [
    "#Plot results\n",
    "labels=['PI','1%','5%']\n",
    "for i in range(3):\n",
    "    plt.plot(range(nGen),np.array(results[i]).mean(axis=0),label=labels[i])\n",
    "plt.xlabel('Generation')\n",
    "plt.ylabel('Average Payoff Per Game')\n",
    "plt.ylim((1,3))\n",
    "plt.legend(bbox_to_anchor=(1.05, 1), loc=2, borderaxespad=0.)\n",
    "plt.show()"
   ]
  },
  {
   "cell_type": "code",
   "execution_count": null,
   "metadata": {
    "collapsed": true
   },
   "outputs": [],
   "source": []
  }
 ],
 "metadata": {
  "kernelspec": {
   "display_name": "Python 3 (ipykernel)",
   "language": "python",
   "name": "python3"
  },
  "language_info": {
   "codemirror_mode": {
    "name": "ipython",
    "version": 3
   },
   "file_extension": ".py",
   "mimetype": "text/x-python",
   "name": "python",
   "nbconvert_exporter": "python",
   "pygments_lexer": "ipython3",
   "version": "3.9.13"
  }
 },
 "nbformat": 4,
 "nbformat_minor": 1
}
