{
 "cells": [
  {
   "cell_type": "markdown",
   "metadata": {},
   "source": [
    "# Interactive Visualization\n",
    "\n",
    "In this lecture we will use [**Bokeh**](http://docs.bokeh.org/en/latest/) and [**HoloViews**](https://holoviews.org/), which are some of the newest libraries so make sure your version and dependencies are up to date. The recommended way to install/update the library (and all libraries that it depends on) is to run the following command in the anaconda command prompt:\n",
    "> conda install -c pyviz holoviews bokeh"
   ]
  },
  {
   "cell_type": "markdown",
   "metadata": {
    "slideshow": {
     "slide_type": "slide"
    }
   },
   "source": [
    "# Bokeh\n",
    "\n",
    "Bokeh is an interactive visualization library for web browsers. It can transform visualization written in other libraries (matplotlib, seaborn, ggplot).\n",
    "* User guide: [link](https://bokeh.pydata.org/en/latest/docs/user_guide.html)\n",
    "* Tutorial: [link](https://mybinder.org/v2/gh/bokeh/bokeh-notebooks/master?filepath=tutorial%2F00%20-%20Introduction%20and%20Setup.ipynb)\n",
    "\n",
    "Bokeh is a recent library with many ongoing developments. Therefore, it is important to keep track of the version you are using and its compatibility with other libraries."
   ]
  },
  {
   "cell_type": "code",
   "execution_count": null,
   "metadata": {},
   "outputs": [],
   "source": [
    "from IPython import __version__ as ipython_version\n",
    "from pandas import __version__ as pandas_version\n",
    "from bokeh import __version__ as bokeh_version\n",
    "print(\"IPython - %s\" % ipython_version)\n",
    "print(\"Pandas - %s\" % pandas_version)\n",
    "print(\"Bokeh - %s\" % bokeh_version)"
   ]
  },
  {
   "cell_type": "markdown",
   "metadata": {
    "slideshow": {
     "slide_type": "slide"
    }
   },
   "source": [
    "# Getting Started with Bokeh\n",
    "* **bokeh.plotting** is a hight-level interface to generate a plot"
   ]
  },
  {
   "cell_type": "code",
   "execution_count": null,
   "metadata": {},
   "outputs": [],
   "source": [
    "from bokeh.plotting import figure, output_notebook, show\n",
    "p = figure(width=500, height=300) # create a Figure object\n",
    "p.circle([1, 2, 3, 4,5], [6, 7, 2, 4, 5], radius=0.1, alpha=0.5) # add a circlel renderer to this figure\n",
    "output_notebook() #output to this notebook\n",
    "show(p) # display the figure"
   ]
  },
  {
   "cell_type": "markdown",
   "metadata": {
    "slideshow": {
     "slide_type": "slide"
    }
   },
   "source": [
    "* **bokeh.models** is a collection of low-level objects which allow for the most flexibility."
   ]
  },
  {
   "cell_type": "code",
   "execution_count": null,
   "metadata": {},
   "outputs": [],
   "source": [
    "import pandas as pd\n",
    "data=pd.read_csv(\"data_files\\\\cars_data.csv\") #Get data\n",
    "from bokeh.models import ColumnDataSource\n",
    "source = ColumnDataSource(data) #<--- format data frame so that it is recognizable to bokeh\n",
    "print(source.column_names) #display column names"
   ]
  },
  {
   "cell_type": "code",
   "execution_count": null,
   "metadata": {},
   "outputs": [],
   "source": [
    "p = figure(width=800, height=450,title=\"MPG vs HP\",tools=[]) # create a Figure object\n",
    "p.circle(source=source, x='mpg', y='horsepower',size=5) # create a scatter chart\n",
    "output_notebook() # output to notebook\n",
    "show(p) # display the figure"
   ]
  },
  {
   "cell_type": "markdown",
   "metadata": {
    "slideshow": {
     "slide_type": "slide"
    }
   },
   "source": [
    "Bokeh allows you to interactively investigate the data"
   ]
  },
  {
   "cell_type": "code",
   "execution_count": null,
   "metadata": {
    "slideshow": {
     "slide_type": "-"
    }
   },
   "outputs": [],
   "source": [
    "from bokeh.plotting import figure, output_notebook, show\n",
    "from bokeh.transform import factor_cmap\n",
    "from bokeh.palettes import Spectral5\n",
    "\n",
    "tools = [\"pan\",\"save\",\"hover\",'wheel_zoom',\"box_zoom\",\"reset\"] #Customize interactive tools and tooltips for hover option\n",
    "TOOLTIPS = [ (\"index\", \"$index\"), (\"(x,y)\", \"($x, $y)\"), (\"Model Year\", \"@model_year\"), (\"Car Name\", \"@car_name\") , (\"Accel.\", \"@acceleration\")]\n",
    "p = figure(width=800, height=450,title=\"MPG vs HP\",tools=tools, tooltips=TOOLTIPS) # create a Figure object\n",
    "origin_cmap = factor_cmap('origin', palette=Spectral5, factors=sorted(data.origin.unique())) #create colors for different countries of origin\n",
    "p.circle(source=source, x='mpg', y='horsepower',hover_color=\"red\",size=10,fill_color=origin_cmap,legend='origin') # create a scatter chart\n",
    "output_notebook() #output to current notebook \n",
    "show(p) #display figure"
   ]
  },
  {
   "cell_type": "markdown",
   "metadata": {
    "slideshow": {
     "slide_type": "slide"
    }
   },
   "source": [
    "## Saving to file"
   ]
  },
  {
   "cell_type": "code",
   "execution_count": null,
   "metadata": {},
   "outputs": [],
   "source": [
    "from bokeh.plotting import output_file\n",
    "output_file(\"output_files\\\\s74_output_example.html\", title=\"s74_bokeh_output_example\") #output to current notebook \n",
    "show(p)"
   ]
  },
  {
   "cell_type": "code",
   "execution_count": null,
   "metadata": {},
   "outputs": [],
   "source": []
  }
 ],
 "metadata": {
  "kernelspec": {
   "display_name": "Python 3",
   "language": "python",
   "name": "python3"
  },
  "language_info": {
   "codemirror_mode": {
    "name": "ipython",
    "version": 3
   },
   "file_extension": ".py",
   "mimetype": "text/x-python",
   "name": "python",
   "nbconvert_exporter": "python",
   "pygments_lexer": "ipython3",
   "version": "3.7.6"
  }
 },
 "nbformat": 4,
 "nbformat_minor": 1
}
