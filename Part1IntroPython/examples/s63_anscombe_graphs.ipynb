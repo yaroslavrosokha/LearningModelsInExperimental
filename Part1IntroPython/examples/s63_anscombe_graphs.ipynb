{
 "cells": [
  {
   "cell_type": "markdown",
   "metadata": {},
   "source": [
    "# Data Visualization"
   ]
  },
  {
   "cell_type": "markdown",
   "metadata": {},
   "source": [
    "## seaborn\n",
    "\n",
    "Seaborn may not installed by default in Anaconda.\n",
    "\n",
    "Try install it from the command prompt: **conda install seaborn**"
   ]
  },
  {
   "cell_type": "code",
   "execution_count": null,
   "metadata": {},
   "outputs": [],
   "source": [
    "import pandas as pd #Load pandas library\n",
    "import seaborn as sns #Load seaborn library\n",
    "import matplotlib.pylab as plt #Load matplotlib library\n",
    "import numpy as np\n",
    "from scipy import stats\n",
    "%matplotlib inline"
   ]
  },
  {
   "cell_type": "markdown",
   "metadata": {},
   "source": [
    "### Load Anscombe dataset"
   ]
  },
  {
   "cell_type": "code",
   "execution_count": null,
   "metadata": {},
   "outputs": [],
   "source": [
    "anscombe = sns.load_dataset(\"anscombe\") #Load the dataset. This particular data set is built into sns library"
   ]
  },
  {
   "cell_type": "code",
   "execution_count": null,
   "metadata": {},
   "outputs": [],
   "source": [
    "# FacetGrid is a tool in seaborn to display multiple plots considitional on a particular varialbe\n",
    "g = sns.FacetGrid(anscombe, col=\"dataset\")\n",
    "g = g.map(plt.scatter, \"x\",\"y\") # .map() for seaborn maps the function (in this case plt.scatter) to the facetted object"
   ]
  },
  {
   "cell_type": "code",
   "execution_count": null,
   "metadata": {},
   "outputs": [],
   "source": [
    "g = sns.FacetGrid(anscombe, col=\"dataset\")\n",
    "g = g.map(sns.regplot, \"x\",\"y\") # another example in which the function is sns.regplot"
   ]
  },
  {
   "cell_type": "code",
   "execution_count": null,
   "metadata": {},
   "outputs": [],
   "source": []
  }
 ],
 "metadata": {
  "kernelspec": {
   "display_name": "Python 3",
   "language": "python",
   "name": "python3"
  },
  "language_info": {
   "codemirror_mode": {
    "name": "ipython",
    "version": 3
   },
   "file_extension": ".py",
   "mimetype": "text/x-python",
   "name": "python",
   "nbconvert_exporter": "python",
   "pygments_lexer": "ipython3",
   "version": "3.7.6"
  }
 },
 "nbformat": 4,
 "nbformat_minor": 1
}
