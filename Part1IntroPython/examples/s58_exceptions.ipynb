{
 "cells": [
  {
   "cell_type": "markdown",
   "metadata": {},
   "source": [
    "### Exceptions\n",
    "\n",
    "Errors detected during execution are called exceptions and are not unconditionally fatal: you may actually work with them. \n",
    "\n",
    "Syntax:\n",
    "\n",
    "    -- try: ... except: ....\n",
    "    \n",
    "    -- try: ... except <specificException>: ....\n",
    "    \n",
    "    -- try: ... except <specificException> as someName: ....\n",
    "    \n",
    "    -- try: ... except (<specificException1>,<specificException2>,...): ....\n",
    "        \n",
    "    -- try: ... except: ... else: ....\n",
    "    \n",
    "https://docs.python.org/3/tutorial/errors.html"
   ]
  },
  {
   "cell_type": "code",
   "execution_count": null,
   "metadata": {},
   "outputs": [],
   "source": [
    "def myFunction1(someList): #function to find the average\n",
    "    return sum(someList)/len(someList)"
   ]
  },
  {
   "cell_type": "code",
   "execution_count": null,
   "metadata": {},
   "outputs": [],
   "source": [
    "try:\n",
    "    myList1=[]\n",
    "    myFunction1(myList1)\n",
    "except:\n",
    "    print(\"Something was wrong...\")"
   ]
  },
  {
   "cell_type": "code",
   "execution_count": null,
   "metadata": {},
   "outputs": [],
   "source": [
    "try:\n",
    "    myList1=[]\n",
    "    myFunction1(myList1)\n",
    "except ZeroDivisionError:\n",
    "    print(\"Zero Division Error...\")"
   ]
  },
  {
   "cell_type": "code",
   "execution_count": null,
   "metadata": {},
   "outputs": [],
   "source": [
    "try:\n",
    "    myList1=[1,2,'a']\n",
    "    myFunction1(myList1)\n",
    "except ZeroDivisionError:\n",
    "    print(\"Zero Division Error...\")\n",
    "except:\n",
    "    print(\"Some other error in addition to zeroDivisionError\")"
   ]
  },
  {
   "cell_type": "code",
   "execution_count": null,
   "metadata": {},
   "outputs": [],
   "source": [
    "try:\n",
    "    myList1=[1,2]\n",
    "    myFunction1(myList1)\n",
    "except ZeroDivisionError:\n",
    "    print(\"Zero Division Error...\")\n",
    "else:\n",
    "    print(\"No Errors\")"
   ]
  },
  {
   "cell_type": "markdown",
   "metadata": {},
   "source": [
    "### Another set of examples"
   ]
  },
  {
   "cell_type": "code",
   "execution_count": null,
   "metadata": {},
   "outputs": [],
   "source": [
    "with open('somefile.txt') as f:\n",
    "        read_data = f.read()"
   ]
  },
  {
   "cell_type": "code",
   "execution_count": null,
   "metadata": {},
   "outputs": [],
   "source": [
    "try:\n",
    "    with open('somefile.txt') as f:\n",
    "        read_data = f.read()\n",
    "except:\n",
    "    print('Could not open somefile.txt')"
   ]
  },
  {
   "cell_type": "code",
   "execution_count": null,
   "metadata": {},
   "outputs": [],
   "source": [
    "try:\n",
    "    with open('somefile.txt') as f:\n",
    "        read_data = f.read()\n",
    "except FileNotFoundError as error:\n",
    "    print(error)"
   ]
  },
  {
   "cell_type": "markdown",
   "metadata": {},
   "source": [
    "### Combining Exceptions and Assertions"
   ]
  },
  {
   "cell_type": "code",
   "execution_count": null,
   "metadata": {},
   "outputs": [],
   "source": [
    "def myFunction2(someList): #function to find the average\n",
    "    assert len(someList) != 0, \"my message --> the list is empty\"\n",
    "    return sum(someList)/len(someList)"
   ]
  },
  {
   "cell_type": "code",
   "execution_count": null,
   "metadata": {},
   "outputs": [],
   "source": [
    "myList2=[]\n",
    "myFunction2(myList2)"
   ]
  },
  {
   "cell_type": "code",
   "execution_count": null,
   "metadata": {},
   "outputs": [],
   "source": [
    "try:\n",
    "    x=myFunction2(myList2)\n",
    "except AssertionError as error:\n",
    "    print(error)\n",
    "    x=0\n",
    "    \n",
    "print(\"x =\",x)"
   ]
  },
  {
   "cell_type": "markdown",
   "metadata": {},
   "source": [
    "### Raising exceptions"
   ]
  },
  {
   "cell_type": "code",
   "execution_count": null,
   "metadata": {},
   "outputs": [],
   "source": [
    "raise NameError('MyError') #NameError is type of the error, the string is the message"
   ]
  },
  {
   "cell_type": "code",
   "execution_count": null,
   "metadata": {},
   "outputs": [],
   "source": [
    "def myFunction3(x):\n",
    "    if x > 10:\n",
    "        raise ValueError('My Error Message: x>10')\n",
    "    else:\n",
    "        return x/10"
   ]
  },
  {
   "cell_type": "code",
   "execution_count": null,
   "metadata": {},
   "outputs": [],
   "source": [
    "try:\n",
    "    out=myFunction3(9)\n",
    "except ValueError:\n",
    "    out=0"
   ]
  },
  {
   "cell_type": "code",
   "execution_count": null,
   "metadata": {},
   "outputs": [],
   "source": [
    "out"
   ]
  },
  {
   "cell_type": "code",
   "execution_count": null,
   "metadata": {},
   "outputs": [],
   "source": []
  },
  {
   "cell_type": "code",
   "execution_count": null,
   "metadata": {},
   "outputs": [],
   "source": []
  }
 ],
 "metadata": {
  "kernelspec": {
   "display_name": "Python 3",
   "language": "python",
   "name": "python3"
  },
  "language_info": {
   "codemirror_mode": {
    "name": "ipython",
    "version": 3
   },
   "file_extension": ".py",
   "mimetype": "text/x-python",
   "name": "python",
   "nbconvert_exporter": "python",
   "pygments_lexer": "ipython3",
   "version": "3.7.6"
  }
 },
 "nbformat": 4,
 "nbformat_minor": 2
}
