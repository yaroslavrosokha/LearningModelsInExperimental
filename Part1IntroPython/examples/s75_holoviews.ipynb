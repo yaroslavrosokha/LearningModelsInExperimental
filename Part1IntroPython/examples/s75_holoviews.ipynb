{
 "cells": [
  {
   "cell_type": "markdown",
   "metadata": {},
   "source": [
    "# Interactive Visualization\n",
    "\n",
    "In this lecture we will use [**Bokeh**](http://docs.bokeh.org/en/latest/) and [**HoloViews**](https://holoviews.org/), which are some of the newest libraries so make sure your version and dependencies are up to date. The recommended way to install/update the library (and all libraries that it depends on) is to run the following command in the anaconda command prompt:\n",
    "> conda install -c pyviz holoviews bokeh"
   ]
  },
  {
   "cell_type": "markdown",
   "metadata": {
    "slideshow": {
     "slide_type": "slide"
    }
   },
   "source": [
    "## [HoloViews](http://holoviews.org/) \n",
    "HoloViews is an open-source Python library for data analysis and visualization.\n",
    "* instead of building a plot using direct calls to a plotting library, you first organize your data into appropriate format and provide  semantic information required to make it visualizable\n",
    "* then you specify additional metadata as needed to determine more detailed aspects of your visualization \n",
    "* works with Bokeh and Matplotlib"
   ]
  },
  {
   "cell_type": "code",
   "execution_count": null,
   "metadata": {},
   "outputs": [],
   "source": [
    "from IPython import __version__ as ipython_version\n",
    "from pandas import __version__ as pandas_version\n",
    "from bokeh import __version__ as bokeh_version\n",
    "from holoviews import __version__ as hv_version\n",
    "print(\"IPython Version - %s\" % ipython_version)\n",
    "print(\"Pandas Version - %s\" % pandas_version)\n",
    "print(\"Bokeh Version - %s\" % bokeh_version) \n",
    "print(\"Holoviews Version - %s\" % hv_version)"
   ]
  },
  {
   "cell_type": "markdown",
   "metadata": {
    "slideshow": {
     "slide_type": "subslide"
    }
   },
   "source": [
    "## Load Libraries"
   ]
  },
  {
   "cell_type": "code",
   "execution_count": null,
   "metadata": {},
   "outputs": [],
   "source": [
    "#Load libraries\n",
    "import pandas as pd\n",
    "import numpy as np\n",
    "import holoviews as hv\n",
    "import matplotlib.pyplot as plt\n",
    "%matplotlib inline"
   ]
  },
  {
   "cell_type": "code",
   "execution_count": null,
   "metadata": {},
   "outputs": [],
   "source": [
    "hv.notebook_extension('bokeh') #load the bokeh plotting extension, allowing to visualize with Bokeh"
   ]
  },
  {
   "cell_type": "markdown",
   "metadata": {
    "slideshow": {
     "slide_type": "subslide"
    }
   },
   "source": [
    "## Load data"
   ]
  },
  {
   "cell_type": "code",
   "execution_count": null,
   "metadata": {},
   "outputs": [],
   "source": [
    "data = pd.read_csv(\"data_files\\\\cars_data.csv\")\n",
    "data.head(10)"
   ]
  },
  {
   "cell_type": "markdown",
   "metadata": {
    "slideshow": {
     "slide_type": "slide"
    }
   },
   "source": [
    "# Points\n",
    "\n",
    "Points visualizes a scatter of two independent variables, traditionally denoted x and y. In HoloViews, the names 'x' and 'y' are used as the default key dimensions (kdims) of the element. We can see this from the default axis labels when visualizing a simple Points elemen"
   ]
  },
  {
   "cell_type": "code",
   "execution_count": null,
   "metadata": {},
   "outputs": [],
   "source": [
    "hv.Points(data, kdims=['mpg','horsepower'], vdims=[])"
   ]
  },
  {
   "cell_type": "code",
   "execution_count": null,
   "metadata": {
    "slideshow": {
     "slide_type": "subslide"
    }
   },
   "outputs": [],
   "source": [
    "origin = hv.Dataset(data).to(hv.Points, kdims=['mpg','horsepower'], groupby=['origin'])\n",
    "origin"
   ]
  },
  {
   "cell_type": "code",
   "execution_count": null,
   "metadata": {
    "slideshow": {
     "slide_type": "subslide"
    }
   },
   "outputs": [],
   "source": [
    "origin.layout()"
   ]
  },
  {
   "cell_type": "code",
   "execution_count": null,
   "metadata": {
    "slideshow": {
     "slide_type": "subslide"
    }
   },
   "outputs": [],
   "source": [
    "origin.overlay()"
   ]
  },
  {
   "cell_type": "code",
   "execution_count": null,
   "metadata": {
    "slideshow": {
     "slide_type": "subslide"
    }
   },
   "outputs": [],
   "source": [
    "ori_mak = hv.Dataset(data).to(hv.Points, kdims=['mpg','horsepower'], groupby=['origin','maker'])\n",
    "ori_mak.overlay()"
   ]
  },
  {
   "cell_type": "code",
   "execution_count": null,
   "metadata": {
    "slideshow": {
     "slide_type": "subslide"
    }
   },
   "outputs": [],
   "source": [
    "origin.overlay() + ori_mak"
   ]
  },
  {
   "cell_type": "markdown",
   "metadata": {
    "slideshow": {
     "slide_type": "slide"
    }
   },
   "source": [
    "# Polygons\n",
    "\n",
    "A polygon represents a contiguous area in a 2D space."
   ]
  },
  {
   "cell_type": "code",
   "execution_count": null,
   "metadata": {},
   "outputs": [],
   "source": [
    "def rectangle(x=0, y=0, w=.05, h=.05):\n",
    "    '''function that returns vertices of a polygon with a center at (x,y), width of w, and height of h'''\n",
    "    return np.array([(x-w/2, y-h/2), (x+w/2, y-h/2), (x+w/2, y+h/2), (x-w/2, y+h/2), (x-w/2, y-h/2)])\n",
    "\n",
    "#Create 100 random rectangles data\n",
    "my_100_rectangles=[{('x', 'y'): rectangle(x, y,w=.05*x,h=.02*y), 'level': z} for x, y, z in np.random.rand(100, 3)]\n",
    "\n",
    "polys = hv.Polygons(my_100_rectangles, vdims='level')\n",
    "polys"
   ]
  },
  {
   "cell_type": "markdown",
   "metadata": {
    "slideshow": {
     "slide_type": "subslide"
    }
   },
   "source": [
    "## Example"
   ]
  },
  {
   "cell_type": "code",
   "execution_count": null,
   "metadata": {},
   "outputs": [],
   "source": [
    "hv.Polygons([{('x', 'y'): hv.Box(0, 0, i).array(), 'z': i} for i in range(4)[::-1]], vdims='z') +\\\n",
    "hv.Polygons([{('x', 'y'): hv.Ellipse(0, 0, i).array(), 'z': i} for i in range(4)[::-1]], vdims='z')"
   ]
  },
  {
   "cell_type": "markdown",
   "metadata": {
    "slideshow": {
     "slide_type": "subslide"
    }
   },
   "source": [
    "## Aside"
   ]
  },
  {
   "cell_type": "code",
   "execution_count": null,
   "metadata": {
    "slideshow": {
     "slide_type": "-"
    }
   },
   "outputs": [],
   "source": [
    "hv.Box(0, 0, 1).array() #Built-in function to create a box"
   ]
  },
  {
   "cell_type": "code",
   "execution_count": null,
   "metadata": {},
   "outputs": [],
   "source": [
    "hv.Ellipse(0, 0, (1,.5)) #Built-in function to create an ellipse"
   ]
  },
  {
   "cell_type": "markdown",
   "metadata": {
    "slideshow": {
     "slide_type": "slide"
    }
   },
   "source": [
    "# Image\n",
    "\n",
    "Image represents a regularly sampled 2D grid of an underlying continuous space of intensity values, which will be colormapped on plotting.\n",
    "\n",
    "For more see: https://anaconda.org/jbednar/rich_display/notebook"
   ]
  },
  {
   "cell_type": "code",
   "execution_count": null,
   "metadata": {},
   "outputs": [],
   "source": [
    "def sine(x, phase=0, freq=10):\n",
    "    return np.sin((freq * x + phase))"
   ]
  },
  {
   "cell_type": "code",
   "execution_count": null,
   "metadata": {},
   "outputs": [],
   "source": [
    "dist = np.linspace(-1,1,81)   # Linear space with 81 points\n",
    "x,y = np.meshgrid(dist, dist)     # meshgrid creates a grid of x,y values\n",
    "z = sine(x**2+y**2)                # Create a z value"
   ]
  },
  {
   "cell_type": "code",
   "execution_count": null,
   "metadata": {
    "slideshow": {
     "slide_type": "subslide"
    }
   },
   "outputs": [],
   "source": [
    "bounds=(-1,-1,1,1)   # Coordinate system: (left, bottom, right, top)\n",
    "hv.Image(z,bounds=bounds)"
   ]
  },
  {
   "cell_type": "markdown",
   "metadata": {
    "slideshow": {
     "slide_type": "subslide"
    }
   },
   "source": [
    "## Image Grating\n",
    "\n",
    "A grating is any regularly spaced collection of parallel, elongated elements"
   ]
  },
  {
   "cell_type": "code",
   "execution_count": null,
   "metadata": {},
   "outputs": [],
   "source": [
    "grating = hv.Image(z, label=\"Sine Grating\",bounds=bounds) # Aside: \n",
    "((grating * hv.HLine(y=.2)) + grating.sample(y=.2).relabel(\"Sine Wave\"))"
   ]
  },
  {
   "cell_type": "code",
   "execution_count": null,
   "metadata": {
    "slideshow": {
     "slide_type": "subslide"
    }
   },
   "outputs": [],
   "source": [
    "positions = np.linspace(-.9, .9, 31)\n",
    "\n",
    "hv.HoloMap({y: (grating * hv.HLine(y)) for y in positions}, kdims='Y') + \\\n",
    "hv.HoloMap({y: (grating.sample(y=y)).relabel(\"Sine Wave\")   for y in positions}, kdims='Y')"
   ]
  },
  {
   "cell_type": "code",
   "execution_count": null,
   "metadata": {},
   "outputs": [],
   "source": []
  },
  {
   "cell_type": "code",
   "execution_count": null,
   "metadata": {},
   "outputs": [],
   "source": []
  },
  {
   "cell_type": "code",
   "execution_count": null,
   "metadata": {},
   "outputs": [],
   "source": []
  }
 ],
 "metadata": {
  "kernelspec": {
   "display_name": "Python 3",
   "language": "python",
   "name": "python3"
  },
  "language_info": {
   "codemirror_mode": {
    "name": "ipython",
    "version": 3
   },
   "file_extension": ".py",
   "mimetype": "text/x-python",
   "name": "python",
   "nbconvert_exporter": "python",
   "pygments_lexer": "ipython3",
   "version": "3.7.6"
  }
 },
 "nbformat": 4,
 "nbformat_minor": 1
}
