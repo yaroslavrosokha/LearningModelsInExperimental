{
 "cells": [
  {
   "cell_type": "code",
   "execution_count": null,
   "metadata": {},
   "outputs": [],
   "source": [
    "import numpy as np\n",
    "import time\n",
    "import matplotlib.pyplot as plt\n",
    "%matplotlib inline"
   ]
  },
  {
   "cell_type": "markdown",
   "metadata": {},
   "source": [
    "### Recursive implementation of the Fibonacci Sequence"
   ]
  },
  {
   "cell_type": "code",
   "execution_count": null,
   "metadata": {},
   "outputs": [],
   "source": [
    "def fibRecursive(n):\n",
    "#     print(\"fibRecursive(%i)..\"%n,end=\" \")\n",
    "    if n == 0:\n",
    "        return 0\n",
    "    elif n == 1:\n",
    "        return 1\n",
    "    else:\n",
    "        return fibRecursive(n-1) + fibRecursive(n-2)"
   ]
  },
  {
   "cell_type": "code",
   "execution_count": null,
   "metadata": {},
   "outputs": [],
   "source": [
    "fibRecursive(10)"
   ]
  },
  {
   "cell_type": "markdown",
   "metadata": {},
   "source": [
    "### Implement memoization"
   ]
  },
  {
   "cell_type": "code",
   "execution_count": null,
   "metadata": {},
   "outputs": [],
   "source": [
    "def fibFast(n, values=None):\n",
    "#     print(\"fibRecursive(%i)..\"%n,end=\" \")\n",
    "    \n",
    "    if values==None:\n",
    "        values={}\n",
    "    \n",
    "    if n==0:\n",
    "        return 0\n",
    "    if n==1: \n",
    "        return 1\n",
    "    \n",
    "    if n in values:\n",
    "        return values[n]\n",
    "    else:\n",
    "        result=fibFast(n-1,values)+fibFast(n-2,values)\n",
    "        values[n]=result\n",
    "        return result"
   ]
  },
  {
   "cell_type": "code",
   "execution_count": null,
   "metadata": {},
   "outputs": [],
   "source": [
    "fibFast(10)"
   ]
  },
  {
   "cell_type": "markdown",
   "metadata": {},
   "source": [
    "### Visulize Time Complexity"
   ]
  },
  {
   "cell_type": "code",
   "execution_count": null,
   "metadata": {},
   "outputs": [],
   "source": [
    "def measureTime(fun,obj):\n",
    "    startTime=time.time()\n",
    "    fun(obj)\n",
    "    endTime=time.time()\n",
    "    return endTime-startTime"
   ]
  },
  {
   "cell_type": "code",
   "execution_count": null,
   "metadata": {},
   "outputs": [],
   "source": [
    "n_points=21\n",
    "n_sims=5\n",
    "\n",
    "t_rec=np.empty((n_points,n_sims))\n",
    "t_fast=np.empty((n_points,n_sims))\n",
    "\n",
    "n_grid=np.linspace(10,30,n_points,dtype=int)\n",
    "\n",
    "for sim in range(n_sims):\n",
    "    for i,N in enumerate(n_grid):     \n",
    "        t_rec[i,sim]=measureTime(fibRecursive,N)\n",
    "        t_fast[i,sim]=measureTime(fibFast,N)"
   ]
  },
  {
   "cell_type": "code",
   "execution_count": null,
   "metadata": {},
   "outputs": [],
   "source": [
    "labs = ['Recursive','Fast'] #labels\n",
    "colors = ['red','blue'] #colors\n",
    "\n",
    "plt.scatter(n_grid, t_rec.mean(axis=1), color=colors[0], label=labs[0], alpha=.5)\n",
    "plt.scatter(n_grid, t_fast.mean(axis=1), color=colors[1], label=labs[1], alpha=.5)\n",
    "\n",
    "plt.legend(loc='upper left')\n",
    "plt.xlabel('N')\n",
    "plt.ylabel('Time (in Seconds)')\n",
    "plt.title('Figure by yrosokha', fontsize = 20)"
   ]
  },
  {
   "cell_type": "code",
   "execution_count": null,
   "metadata": {},
   "outputs": [],
   "source": []
  }
 ],
 "metadata": {
  "kernelspec": {
   "display_name": "Python 3",
   "language": "python",
   "name": "python3"
  },
  "language_info": {
   "codemirror_mode": {
    "name": "ipython",
    "version": 3
   },
   "file_extension": ".py",
   "mimetype": "text/x-python",
   "name": "python",
   "nbconvert_exporter": "python",
   "pygments_lexer": "ipython3",
   "version": "3.7.6"
  }
 },
 "nbformat": 4,
 "nbformat_minor": 2
}
