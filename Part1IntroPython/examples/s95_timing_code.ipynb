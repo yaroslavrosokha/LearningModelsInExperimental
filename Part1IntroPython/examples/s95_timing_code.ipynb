{
 "cells": [
  {
   "cell_type": "markdown",
   "metadata": {},
   "source": [
    "Understanding how fast your code runs will be very useful throughout this course. There are two main approaches you can take. First you can use **time** library. Second you can use iPython itself with a magic %timeit function "
   ]
  },
  {
   "cell_type": "code",
   "execution_count": null,
   "metadata": {},
   "outputs": [],
   "source": [
    "import sys\n",
    "sys.path.append(\"python_files\")"
   ]
  },
  {
   "cell_type": "code",
   "execution_count": null,
   "metadata": {},
   "outputs": [],
   "source": [
    "import time\n",
    "from taxes import myTax #will be used as an example"
   ]
  },
  {
   "cell_type": "code",
   "execution_count": null,
   "metadata": {},
   "outputs": [],
   "source": [
    "t1=time.time() #Get the initial time\n",
    "#--------------------\n",
    "#run some code\n",
    "for n in range(1000000):\n",
    "    myTax(n)\n",
    "#--------------------\n",
    "t2=time.time() #Get time after running your code\n",
    "print(\"Took:\",str(t2-t1),\" seconds\")"
   ]
  },
  {
   "cell_type": "markdown",
   "metadata": {},
   "source": [
    "IPython treats any line whose first character is ‘%’ as a special call to a ‘magic’ function\n",
    "magic allows you to control behavior of Ipython itself\n",
    "*%* is a line magic\n",
    "*%%* is a cell magic"
   ]
  },
  {
   "cell_type": "code",
   "execution_count": null,
   "metadata": {},
   "outputs": [],
   "source": [
    "%%timeit \n",
    "for n in range(1000000):\n",
    "    myTax(n)"
   ]
  },
  {
   "cell_type": "code",
   "execution_count": null,
   "metadata": {},
   "outputs": [],
   "source": []
  }
 ],
 "metadata": {
  "kernelspec": {
   "display_name": "Python 3",
   "language": "python",
   "name": "python3"
  },
  "language_info": {
   "codemirror_mode": {
    "name": "ipython",
    "version": 3
   },
   "file_extension": ".py",
   "mimetype": "text/x-python",
   "name": "python",
   "nbconvert_exporter": "python",
   "pygments_lexer": "ipython3",
   "version": "3.7.6"
  }
 },
 "nbformat": 4,
 "nbformat_minor": 2
}
