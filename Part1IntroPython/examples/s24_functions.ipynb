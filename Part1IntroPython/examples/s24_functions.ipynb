{
 "cells": [
  {
   "cell_type": "markdown",
   "metadata": {},
   "source": [
    "# Functions\n",
    "A function is a block of organized, reusable code that is used to perform a single, related action. Functions provide better modularity for your application and a high degree of code reusing. Python gives you many built-in functions like print(), etc. but you can also create your own functions. These functions are called user-defined functions.\n",
    "\n",
    "#### Defining a Function\n",
    "You can define functions to provide the required functionality. Here are rules to define a function in Python.\n",
    "* Function blocks begin with the keyword **def** followed by the function name and parentheses ( ).\n",
    "* Input parameters (or *arguments*) should be placed within these parentheses.  \n",
    "* The code block within every function starts with a colon (**:**) and is indented.\n",
    "* The statement **return** exits a function, passing back an expression to the caller. A return statement with no arguments is the same as **return None**."
   ]
  },
  {
   "cell_type": "code",
   "execution_count": null,
   "metadata": {},
   "outputs": [],
   "source": [
    "def myAddFunction1( param1, param2 ):\n",
    "    print(\"Running myAddFunction1 ...\")\n",
    "    print(\"param1 =\",param1,\" param2=\",param2)\n",
    "    myOut = param1 + param2\n",
    "    return myOut"
   ]
  },
  {
   "cell_type": "markdown",
   "metadata": {},
   "source": [
    "#### Running a Function\n",
    "You can run functions by typing its name and passing necessary parameters in parentheses"
   ]
  },
  {
   "cell_type": "code",
   "execution_count": null,
   "metadata": {},
   "outputs": [],
   "source": [
    "myAddFunction1(2,3) # Try modifying the numbers and re-executing this cell"
   ]
  },
  {
   "cell_type": "code",
   "execution_count": null,
   "metadata": {},
   "outputs": [],
   "source": [
    "def myTestFunction1( param1, param2 ):\n",
    "    print(\" Running myAssignmentFunction1 ...\")\n",
    "    print(\"param1 =\",param1,\" param2=\",param2)\n",
    "    out = param1 + param2\n",
    "    return out"
   ]
  },
  {
   "cell_type": "code",
   "execution_count": null,
   "metadata": {},
   "outputs": [],
   "source": [
    "myTestFunction1(2,3)"
   ]
  },
  {
   "cell_type": "markdown",
   "metadata": {},
   "source": [
    "#### Default arguments\n",
    "A default argument is an argument that assumes a default value if a value is not provided in the function call for that argument. The following example gives an idea on default arguments, it prints default if not passed"
   ]
  },
  {
   "cell_type": "code",
   "execution_count": null,
   "metadata": {},
   "outputs": [],
   "source": [
    "# Function definition is here\n",
    "def myAddFunction2( param1, param2 = 7 ):\n",
    "    print(\" Running myAddFunction2...\")\n",
    "    myOut = param1 + param2\n",
    "    return myOut"
   ]
  },
  {
   "cell_type": "code",
   "execution_count": null,
   "metadata": {},
   "outputs": [],
   "source": [
    "print(myAddFunction2(3))\n",
    "print(myAddFunction2(3,5))"
   ]
  },
  {
   "cell_type": "markdown",
   "metadata": {},
   "source": [
    "#### Variable-length arguments\n",
    "You may need to process a function for more arguments than you specified while defining the function. These arguments are called variable-length arguments and are not named in the function definition, unlike required and default arguments."
   ]
  },
  {
   "cell_type": "code",
   "execution_count": null,
   "metadata": {},
   "outputs": [],
   "source": [
    "def myAddFunction3( param1, *moreParams ):\n",
    "    print(\" Running myAddFunction3...\")\n",
    "    myOut = param1 + moreParams[0] + moreParams[1]\n",
    "    return myOut"
   ]
  },
  {
   "cell_type": "code",
   "execution_count": null,
   "metadata": {},
   "outputs": [],
   "source": [
    "myAddFunction3(3,4,7)"
   ]
  },
  {
   "cell_type": "markdown",
   "metadata": {},
   "source": [
    "### Anonymous Functions\n",
    "These functions are called anonymous because they are not declared in the standard manner by using the **def** keyword. You can use the **lambda** keyword to create small anonymous functions.\n",
    "\n",
    "* Lambda forms can take any number of arguments **but return just one value** in the form of an expression. They cannot contain commands or multiple expressions.\n",
    "* An anonymous function cannot be a direct call to print.\n",
    "* Lambda functions cannot access variables other than those in their parameter list and those in the global namespace.\n",
    "* The syntax of lambda functions contains only a single statement: lambda [arg1 [,arg2,.....argn]]:expression"
   ]
  },
  {
   "cell_type": "code",
   "execution_count": null,
   "metadata": {},
   "outputs": [],
   "source": [
    "# Function definition is here\n",
    "mySum3Fun = lambda arg1, arg2, arg3: arg1 + arg2 + arg3;"
   ]
  },
  {
   "cell_type": "code",
   "execution_count": null,
   "metadata": {},
   "outputs": [],
   "source": [
    "# Now you can call sum as a function\n",
    "print(\"Value of total : \", mySum3Fun( 10, 20, 30 ))\n",
    "print(\"Value of total : \", mySum3Fun( 20, 20, 30 ))"
   ]
  },
  {
   "cell_type": "markdown",
   "metadata": {},
   "source": [
    "### Scope of Variables\n",
    "All variables in a program may not be accessible at all locations in that program. This depends on where you have declared a variable. The **scope** of a variable determines the portion of the program where you can access a particular identifier. There are two basic scopes of variables in Python − **global variables** and **local variables**:\n",
    "\n",
    "* Variables that are defined inside a function body have a local scope\n",
    "* Variables that are defined outside have a global scope.\n",
    "\n",
    "This means that local variables can be accessed only inside the function in which they are declared, whereas global variables can be accessed throughout the program body by all functions."
   ]
  },
  {
   "cell_type": "markdown",
   "metadata": {
    "collapsed": true
   },
   "source": [
    "# More Examples"
   ]
  },
  {
   "cell_type": "code",
   "execution_count": null,
   "metadata": {},
   "outputs": [],
   "source": [
    "#Create a function\n",
    "def fib(n): #Fibonacci sequence up to (and including) integer n\n",
    "    a = 0 #starts with 0 and 1\n",
    "    b = 1 \n",
    "    while a <= n: \n",
    "        print(a) #print number to screen\n",
    "        tempVar=a\n",
    "        a=b \n",
    "        b = tempVar+a "
   ]
  },
  {
   "cell_type": "code",
   "execution_count": null,
   "metadata": {},
   "outputs": [],
   "source": [
    "#Run a function\n",
    "fib(180)"
   ]
  },
  {
   "cell_type": "code",
   "execution_count": null,
   "metadata": {},
   "outputs": [],
   "source": [
    "#Create a function that returns Indiana sales tax for a sale amount x\n",
    "def myTaxFun(x):\n",
    "    return x*0.07"
   ]
  },
  {
   "cell_type": "code",
   "execution_count": null,
   "metadata": {},
   "outputs": [],
   "source": [
    "#Run this function\n",
    "myTaxFun(15)"
   ]
  },
  {
   "cell_type": "code",
   "execution_count": null,
   "metadata": {},
   "outputs": [],
   "source": []
  }
 ],
 "metadata": {
  "kernelspec": {
   "display_name": "Python 3",
   "language": "python",
   "name": "python3"
  },
  "language_info": {
   "codemirror_mode": {
    "name": "ipython",
    "version": 3
   },
   "file_extension": ".py",
   "mimetype": "text/x-python",
   "name": "python",
   "nbconvert_exporter": "python",
   "pygments_lexer": "ipython3",
   "version": "3.7.6"
  }
 },
 "nbformat": 4,
 "nbformat_minor": 2
}
