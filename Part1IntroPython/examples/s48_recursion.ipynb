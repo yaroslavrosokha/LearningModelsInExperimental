{
 "cells": [
  {
   "cell_type": "markdown",
   "metadata": {},
   "source": [
    "## Recursion"
   ]
  },
  {
   "cell_type": "code",
   "execution_count": null,
   "metadata": {},
   "outputs": [],
   "source": [
    "#Iterative version\n",
    "def sumOfN(someList):\n",
    "    print(someList)\n",
    "    theSum = 0\n",
    "    for i in someList:\n",
    "        theSum = theSum + i\n",
    "    return theSum"
   ]
  },
  {
   "cell_type": "code",
   "execution_count": null,
   "metadata": {},
   "outputs": [],
   "source": [
    "#Recursive version\n",
    "def sumOfNRecursive (someList):\n",
    "    print(someList)\n",
    "    if len(someList) == 1:\n",
    "        return someList[0]\n",
    "    else:\n",
    "        return someList[0]+sumOfNRecursive(someList[1:])"
   ]
  },
  {
   "cell_type": "code",
   "execution_count": null,
   "metadata": {
    "scrolled": true
   },
   "outputs": [],
   "source": [
    "sumOfNRecursive([1,2,3,4])"
   ]
  },
  {
   "cell_type": "code",
   "execution_count": null,
   "metadata": {},
   "outputs": [],
   "source": []
  },
  {
   "cell_type": "markdown",
   "metadata": {},
   "source": [
    "### Exercise 1: Write a function to calculate factorial of a number recursively"
   ]
  },
  {
   "cell_type": "code",
   "execution_count": null,
   "metadata": {},
   "outputs": [],
   "source": [
    "def factorialRecursive(N):\n",
    "    '''A recursive function to calculate a factorial of a number N'''\n",
    "    print(N)\n",
    "    if N==1:\n",
    "        return 1\n",
    "    else:\n",
    "        return N*factorialRecursive(N-1)"
   ]
  },
  {
   "cell_type": "code",
   "execution_count": null,
   "metadata": {},
   "outputs": [],
   "source": [
    "factorialRecursive(5)"
   ]
  },
  {
   "cell_type": "markdown",
   "metadata": {},
   "source": [
    "### A function to recursively convert an integer to a string"
   ]
  },
  {
   "cell_type": "code",
   "execution_count": null,
   "metadata": {},
   "outputs": [],
   "source": [
    "def toDecStr(number):\n",
    "    '''A recursive function to convert a positive integer N into a sring'''\n",
    "    stringOfDigits=\"0123456789\"\n",
    "    \n",
    "    #Base case:\n",
    "    if number<10:\n",
    "        return stringOfDigits[number]\n",
    "    else:\n",
    "        return toDecStr(number//10) + stringOfDigits[number%10]"
   ]
  },
  {
   "cell_type": "code",
   "execution_count": null,
   "metadata": {},
   "outputs": [],
   "source": [
    "toDecStr(1)"
   ]
  },
  {
   "cell_type": "markdown",
   "metadata": {},
   "source": [
    "### Exercise 2: Write a function to convert an integer to a binary string"
   ]
  },
  {
   "cell_type": "code",
   "execution_count": null,
   "metadata": {},
   "outputs": [],
   "source": [
    "def toBinStr(number):\n",
    "    \n",
    "    stringOfDigits=\"01\"\n",
    "    \n",
    "    #Base case:\n",
    "    if number<2:\n",
    "        return stringOfDigits[number]\n",
    "    else:\n",
    "        return toBinStr(number//2) + stringOfDigits[number%2]"
   ]
  },
  {
   "cell_type": "code",
   "execution_count": null,
   "metadata": {},
   "outputs": [],
   "source": [
    "toBinStr(321)"
   ]
  },
  {
   "cell_type": "code",
   "execution_count": null,
   "metadata": {},
   "outputs": [],
   "source": []
  }
 ],
 "metadata": {
  "kernelspec": {
   "display_name": "Python 3",
   "language": "python",
   "name": "python3"
  },
  "language_info": {
   "codemirror_mode": {
    "name": "ipython",
    "version": 3
   },
   "file_extension": ".py",
   "mimetype": "text/x-python",
   "name": "python",
   "nbconvert_exporter": "python",
   "pygments_lexer": "ipython3",
   "version": "3.7.6"
  }
 },
 "nbformat": 4,
 "nbformat_minor": 1
}
