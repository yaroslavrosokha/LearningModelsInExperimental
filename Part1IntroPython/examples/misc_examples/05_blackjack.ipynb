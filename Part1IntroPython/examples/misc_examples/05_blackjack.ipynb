{
 "cells": [
  {
   "cell_type": "code",
   "execution_count": null,
   "metadata": {},
   "outputs": [],
   "source": [
    "#Libraries\n",
    "import numpy as np\n",
    "import random\n",
    "import copy as cp\n",
    "import matplotlib.pyplot as plt\n",
    "%matplotlib inline"
   ]
  },
  {
   "cell_type": "code",
   "execution_count": null,
   "metadata": {},
   "outputs": [],
   "source": [
    "#Cards in deck and corresponding card values\n",
    "cards=[2,3,4,5,6,7,8,9,10,'J','Q','K','A']\n",
    "values=[2,3,4,5,6,7,8,9,10,10,10,10,11]"
   ]
  },
  {
   "cell_type": "code",
   "execution_count": null,
   "metadata": {},
   "outputs": [],
   "source": [
    "#Example draw of a card\n",
    "random.choice(cards)"
   ]
  },
  {
   "cell_type": "code",
   "execution_count": null,
   "metadata": {},
   "outputs": [],
   "source": [
    "#Example draw of a value\n",
    "random.choice(values)"
   ]
  },
  {
   "cell_type": "markdown",
   "metadata": {},
   "source": [
    "### Exercise 1\n",
    "Write a program to estimate the probability that hte dealer will bust"
   ]
  },
  {
   "cell_type": "code",
   "execution_count": null,
   "metadata": {},
   "outputs": [],
   "source": [
    "def checkDealerBust(total=0, ace_list=None): #by default start with an empty hand\n",
    "    if ace_list==None:\n",
    "        aces=[] #Start with no aces (Keep track of aces because they may be counted as 11 or 1)\n",
    "    else:\n",
    "        aces=cp.deepcopy(ace_list)\n",
    "    \n",
    "\n",
    "    while total<17: #While total is less than 17, the dealer with draw a card at random\n",
    "\n",
    "        card_value=random.choice(values) #Draw a random value\n",
    "        if card_value==11: #if an ace has been drawn, add it to the record\n",
    "            aces.append(True)\n",
    "\n",
    "        total+=card_value #add the drawn value to the hand total\n",
    "\n",
    "        while total>21 and aces: #if busted but have an ace, then count ace as 1, not as eleven\n",
    "            aces.pop()\n",
    "            total-=10\n",
    "        \n",
    "    return total>21"
   ]
  },
  {
   "cell_type": "code",
   "execution_count": null,
   "metadata": {},
   "outputs": [],
   "source": [
    "#Estimate the probability that the dealer will bust\n",
    "def getBustProb(total=0,aces=None,n_sims=10000): #by default run 10000 simulations\n",
    "    n_busts=0 #Count number of busts\n",
    "    for i in range(n_sims):\n",
    "        n_busts += checkDealerBust(total,aces)\n",
    "        \n",
    "    return n_busts/n_sims"
   ]
  },
  {
   "cell_type": "code",
   "execution_count": null,
   "metadata": {},
   "outputs": [],
   "source": [
    "print(\"Estiamate of the probabability that the dealer will bust is:\",getBustProb())"
   ]
  },
  {
   "cell_type": "markdown",
   "metadata": {},
   "source": [
    "### Exercise 2\n",
    "Suppose that a dealer starts with one card showing. Write a program that estimates the probability that the dealer will bust for each starting card. Visualize as a bar chart with card on the x-axis and probability of a bust on the y-axis."
   ]
  },
  {
   "cell_type": "code",
   "execution_count": null,
   "metadata": {},
   "outputs": [],
   "source": [
    "estimates=[]\n",
    "for init_card_value in values:\n",
    "    if init_card_value!=11:\n",
    "        estimates.append(getBustProb(init_card_value))\n",
    "    else:\n",
    "        estimates.append(getBustProb(init_card_value,[True]))"
   ]
  },
  {
   "cell_type": "code",
   "execution_count": null,
   "metadata": {},
   "outputs": [],
   "source": [
    "y_pos = np.arange(len(cards))\n",
    "\n",
    "plt.bar(y_pos, estimates, align='center', alpha=0.5)\n",
    "plt.xticks(y_pos, cards)\n",
    "plt.ylabel('Probability')\n",
    "plt.xlabel('First Card')\n",
    "plt.title('Probability that Dealer Busts Given First Card')\n",
    "plt.ylim(0,.5)\n",
    "plt.show()"
   ]
  },
  {
   "cell_type": "code",
   "execution_count": null,
   "metadata": {},
   "outputs": [],
   "source": []
  }
 ],
 "metadata": {
  "kernelspec": {
   "display_name": "Python 3",
   "language": "python",
   "name": "python3"
  },
  "language_info": {
   "codemirror_mode": {
    "name": "ipython",
    "version": 3
   },
   "file_extension": ".py",
   "mimetype": "text/x-python",
   "name": "python",
   "nbconvert_exporter": "python",
   "pygments_lexer": "ipython3",
   "version": "3.7.6"
  }
 },
 "nbformat": 4,
 "nbformat_minor": 2
}
