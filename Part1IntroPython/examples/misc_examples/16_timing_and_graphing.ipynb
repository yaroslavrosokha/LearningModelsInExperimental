{
 "cells": [
  {
   "cell_type": "code",
   "execution_count": null,
   "metadata": {},
   "outputs": [],
   "source": [
    "import numpy as np\n",
    "import pandas as pd\n",
    "import matplotlib.pyplot as plt\n",
    "%matplotlib inline\n",
    "\n",
    "import time\n",
    "\n",
    "def measureTimeNew(fun,*args):\n",
    "    startTime = time.time()\n",
    "    fun(args[0])\n",
    "    endTime = time.time()\n",
    "    return endTime-startTime"
   ]
  },
  {
   "cell_type": "code",
   "execution_count": null,
   "metadata": {},
   "outputs": [],
   "source": [
    "#Iterative version\n",
    "def sumOfN(someList):\n",
    "    print(someList)\n",
    "    theSum = 0\n",
    "    for i in someList:\n",
    "        theSum = theSum + i\n",
    "    return theSum"
   ]
  },
  {
   "cell_type": "code",
   "execution_count": null,
   "metadata": {},
   "outputs": [],
   "source": [
    "#Recursive version\n",
    "def sumOfNRecursive (someList):\n",
    "    print(someList)\n",
    "    if len(someList) == 1:\n",
    "        return someList[0]\n",
    "    else:\n",
    "        return someList[0]+sumOfNRecursive(someList[1:])"
   ]
  },
  {
   "cell_type": "code",
   "execution_count": null,
   "metadata": {},
   "outputs": [],
   "source": [
    "xSeq=list(np.logspace(1,2.5,num=50,dtype='int'))\n",
    "tSeq1=[measureTimeNew(sumOfN,list(range(x))) for x in xSeq]"
   ]
  },
  {
   "cell_type": "code",
   "execution_count": null,
   "metadata": {},
   "outputs": [],
   "source": [
    "tSeq2=[measureTimeNew(sumOfNRecursive,list(range(x))) for x in xSeq]"
   ]
  },
  {
   "cell_type": "code",
   "execution_count": null,
   "metadata": {},
   "outputs": [],
   "source": [
    "myData=pd.DataFrame(list(zip(xSeq,tSeq1,tSeq2)),columns=['N','sumOfN','sumOfNRecursive'])"
   ]
  },
  {
   "cell_type": "code",
   "execution_count": null,
   "metadata": {},
   "outputs": [],
   "source": [
    "myData.plot(x='N')\n",
    "plt.xlabel('N')\n",
    "plt.ylabel('Time (seconds)')\n",
    "plt.show()"
   ]
  },
  {
   "cell_type": "code",
   "execution_count": null,
   "metadata": {},
   "outputs": [],
   "source": []
  }
 ],
 "metadata": {
  "kernelspec": {
   "display_name": "Python 3",
   "language": "python",
   "name": "python3"
  },
  "language_info": {
   "codemirror_mode": {
    "name": "ipython",
    "version": 3
   },
   "file_extension": ".py",
   "mimetype": "text/x-python",
   "name": "python",
   "nbconvert_exporter": "python",
   "pygments_lexer": "ipython3",
   "version": "3.7.6"
  }
 },
 "nbformat": 4,
 "nbformat_minor": 2
}
