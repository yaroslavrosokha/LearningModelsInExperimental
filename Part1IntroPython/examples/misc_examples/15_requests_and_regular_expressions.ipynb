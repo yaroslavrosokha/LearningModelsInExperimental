{
 "cells": [
  {
   "cell_type": "markdown",
   "metadata": {},
   "source": [
    "## Some libraries that may be helpful in reading data from websites\n",
    "\n",
    "    re -- regular expression library \n",
    "        https://developers.google.com/edu/python/regular-expressions \n",
    "        https://docs.python.org/2/library/re.html\n",
    "    requests -- HTTP library http://docs.python-requests.org/en/master/\n",
    "    urllib -- high level interface for getting data https://docs.python.org/2/library/urllib.html"
   ]
  },
  {
   "cell_type": "code",
   "execution_count": null,
   "metadata": {},
   "outputs": [],
   "source": [
    "## In case you are interested in reading website's html source you can use requests libbar\n",
    "import requests\n",
    "r = requests.get('http://www.fec.gov/disclosurep/PDownload.do')\n",
    "print(r.text)"
   ]
  },
  {
   "cell_type": "code",
   "execution_count": null,
   "metadata": {},
   "outputs": [],
   "source": [
    "#You can use regular expression library to find addresses within html that fit a specific criteria\n",
    "#You can read more on regual expression here: https://developers.google.com/edu/python/regular-expressions\n",
    "import re\n",
    "fileAddresses=re.findall('https:.+?.zip', r.text)\n",
    "for x in fileAddresses:\n",
    "    print(x)"
   ]
  },
  {
   "cell_type": "code",
   "execution_count": null,
   "metadata": {},
   "outputs": [],
   "source": [
    "len(fileAddresses)"
   ]
  },
  {
   "cell_type": "markdown",
   "metadata": {},
   "source": [
    "## Practice Exercise \n",
    "Write a loop to download all of the data stat-by-state. You can use the following code to get one file"
   ]
  },
  {
   "cell_type": "code",
   "execution_count": null,
   "metadata": {},
   "outputs": [],
   "source": [
    "import urllib\n",
    "urllib.urlretrieve(someUrlGoesHere, \"fileName.zip\")"
   ]
  }
 ],
 "metadata": {
  "kernelspec": {
   "display_name": "Python 3",
   "language": "python",
   "name": "python3"
  },
  "language_info": {
   "codemirror_mode": {
    "name": "ipython",
    "version": 3
   },
   "file_extension": ".py",
   "mimetype": "text/x-python",
   "name": "python",
   "nbconvert_exporter": "python",
   "pygments_lexer": "ipython3",
   "version": "3.7.6"
  }
 },
 "nbformat": 4,
 "nbformat_minor": 2
}
