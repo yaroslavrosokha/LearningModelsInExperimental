{
 "cells": [
  {
   "cell_type": "markdown",
   "metadata": {},
   "source": [
    "## Bisection Method"
   ]
  },
  {
   "cell_type": "markdown",
   "metadata": {},
   "source": [
    "We will start by creating a function for $f(x)=\\frac{1}{2}−e^{−x}$. "
   ]
  },
  {
   "cell_type": "code",
   "execution_count": null,
   "metadata": {},
   "outputs": [],
   "source": [
    "import numpy as np\n",
    "import matplotlib.pyplot as plt\n",
    "%matplotlib inline"
   ]
  },
  {
   "cell_type": "code",
   "execution_count": null,
   "metadata": {},
   "outputs": [],
   "source": [
    "def myFun(x):\n",
    "    return .5-np.exp(-x)"
   ]
  },
  {
   "cell_type": "markdown",
   "metadata": {},
   "source": [
    "Create a plot of $f(x)$ for x varying from 0 to 4. "
   ]
  },
  {
   "cell_type": "code",
   "execution_count": null,
   "metadata": {},
   "outputs": [],
   "source": [
    "x=np.linspace(0,4,num=100)\n",
    "plt.plot(x,myFun(x),\"r-\")\n",
    "plt.plot([0,4],[0,0],\"k--\") #draw 0 line\n",
    "plt.xlabel(\"$x$\")\n",
    "plt.ylabel(\"$f(x)$\")\n",
    "plt.show()"
   ]
  },
  {
   "cell_type": "markdown",
   "metadata": {},
   "source": [
    "Create *bisection* function with the following arguments:\n",
    "* The function for which you want to find the zero.\n",
    "* x1 and x2\n",
    "* The tolerance *eps* used as a stopping criterion with a default value of 0.001.\n",
    "* The maximum number of iterations *nmax* with a default value of, for example, 10.\n",
    "\n",
    "Additianal checks (at home):\n",
    "* warning if the maximum number of iterations is reached"
   ]
  },
  {
   "cell_type": "code",
   "execution_count": null,
   "metadata": {},
   "outputs": [],
   "source": [
    "def bisection(fun,x1,x2,eps=.001,nmax=1000):\n",
    "    \n",
    "    xMin=x1\n",
    "    xMax=x2\n",
    "    n=0    \n",
    "    if fun(xMin)*fun(xMax)>0:\n",
    "        print(\"--> fun(x1)*fun(x2)>0\")\n",
    "        return None    \n",
    "    else:        \n",
    "        while (xMax-xMin)>eps and n<nmax: \n",
    "            print(\"xMin=\",xMin,\"xMax=\",xMax)\n",
    "            n+=1\n",
    "            xMid=(xMin+xMax)/2.0\n",
    "            if fun(xMin)*fun(xMid)>0:\n",
    "                xMin=xMid\n",
    "            else:\n",
    "                xMax=xMid            \n",
    "        return xMid"
   ]
  },
  {
   "cell_type": "markdown",
   "metadata": {},
   "source": [
    "Find the zero of the function f(x) above. Set eps=0.001. Compare to the exact value (calculated analytically)"
   ]
  },
  {
   "cell_type": "code",
   "execution_count": null,
   "metadata": {},
   "outputs": [],
   "source": [
    "# To check run the following\n",
    "bisection(myFun,.001,4,eps=.001,nmax=10000000000)"
   ]
  },
  {
   "cell_type": "code",
   "execution_count": null,
   "metadata": {},
   "outputs": [],
   "source": [
    "#Exact solution\n",
    "np.log(2)"
   ]
  },
  {
   "cell_type": "markdown",
   "metadata": {
    "collapsed": true
   },
   "source": [
    "### Questions: \n",
    "- What are some drawbacks of the bisection method?\n",
    "- What are some advantages of the bisection method?"
   ]
  },
  {
   "cell_type": "code",
   "execution_count": null,
   "metadata": {},
   "outputs": [],
   "source": []
  }
 ],
 "metadata": {
  "kernelspec": {
   "display_name": "Python 3",
   "language": "python",
   "name": "python3"
  },
  "language_info": {
   "codemirror_mode": {
    "name": "ipython",
    "version": 3
   },
   "file_extension": ".py",
   "mimetype": "text/x-python",
   "name": "python",
   "nbconvert_exporter": "python",
   "pygments_lexer": "ipython3",
   "version": "3.7.6"
  }
 },
 "nbformat": 4,
 "nbformat_minor": 1
}
