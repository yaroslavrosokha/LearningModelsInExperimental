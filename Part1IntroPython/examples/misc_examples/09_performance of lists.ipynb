{
 "cells": [
  {
   "cell_type": "code",
   "execution_count": null,
   "metadata": {},
   "outputs": [],
   "source": [
    "import time"
   ]
  },
  {
   "cell_type": "markdown",
   "metadata": {},
   "source": [
    "## Exercise \n",
    "Plot the time it takes to find the sum of n integers as a function of n."
   ]
  },
  {
   "cell_type": "code",
   "execution_count": null,
   "metadata": {},
   "outputs": [],
   "source": [
    "import matplotlib.pylab as plt #Typically matplotlib.pylab is imported as plt (shortened name)\n",
    "%matplotlib inline "
   ]
  },
  {
   "cell_type": "markdown",
   "metadata": {},
   "source": [
    "The function f is slightly faster, as you can see from this plot (the execution time was measured using the handy ipython module %timeit):"
   ]
  },
  {
   "cell_type": "code",
   "execution_count": null,
   "metadata": {},
   "outputs": [],
   "source": [
    "def f(n):\n",
    "    l = []\n",
    "    for i in range(n):\n",
    "        l.append(i)\n",
    "    return l\n",
    "\n",
    "def g(n):\n",
    "    l = []\n",
    "    for i in range(n):\n",
    "        l.insert(i, i)\n",
    "    return l"
   ]
  },
  {
   "cell_type": "markdown",
   "metadata": {},
   "source": [
    "The following experiment shows the (huge) O(n) cost for resizing of the insert(0, v) operation. If we modify the functions above to return the list of natural numbers in inverted order, we can see that it is much (very much) faster to append the elements and then reverse() the resulting list rather than doing insert(0, v) operations."
   ]
  },
  {
   "cell_type": "code",
   "execution_count": null,
   "metadata": {},
   "outputs": [],
   "source": [
    "def f(n):\n",
    "    l = []\n",
    "    for i in range(n):\n",
    "        l.append(i)\n",
    "    l.reverse()\n",
    "    return l\n",
    "\n",
    "def g(n):\n",
    "    l = []\n",
    "    for i in range(n):\n",
    "        l.insert(0, i)\n",
    "    return l"
   ]
  }
 ],
 "metadata": {
  "kernelspec": {
   "display_name": "Python 3",
   "language": "python",
   "name": "python3"
  },
  "language_info": {
   "codemirror_mode": {
    "name": "ipython",
    "version": 3
   },
   "file_extension": ".py",
   "mimetype": "text/x-python",
   "name": "python",
   "nbconvert_exporter": "python",
   "pygments_lexer": "ipython3",
   "version": "3.7.6"
  }
 },
 "nbformat": 4,
 "nbformat_minor": 2
}
