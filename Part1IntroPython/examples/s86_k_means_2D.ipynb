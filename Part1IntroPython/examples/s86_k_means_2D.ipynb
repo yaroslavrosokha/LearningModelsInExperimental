{
 "cells": [
  {
   "cell_type": "markdown",
   "metadata": {},
   "source": [
    "# Import Libraries"
   ]
  },
  {
   "cell_type": "code",
   "execution_count": null,
   "metadata": {},
   "outputs": [],
   "source": [
    "import copy\n",
    "import numpy as np\n",
    "import pandas as pd\n",
    "import seaborn as sns\n",
    "import matplotlib.pylab as plt\n",
    "%matplotlib inline"
   ]
  },
  {
   "cell_type": "markdown",
   "metadata": {},
   "source": [
    "# Generate 2-D data with 3 clusters"
   ]
  },
  {
   "cell_type": "code",
   "execution_count": null,
   "metadata": {},
   "outputs": [],
   "source": [
    "np.random.seed(123) #Set seed for replicability\n",
    "\n",
    "#Create three clusters of points drawn from a multivariate normal distribution\n",
    "mean1=[0, 0]\n",
    "cov1 = [[1, .1], [.1, 1]]\n",
    "x1, y1 = np.random.multivariate_normal(mean1, cov1, 100).T\n",
    "\n",
    "mean2=[4.5, 1.5]\n",
    "cov2 = [[1, .5], [.5, 1]]\n",
    "x2, y2 = np.random.multivariate_normal(mean2, cov2, 100).T\n",
    "\n",
    "mean3=[4, -3]\n",
    "cov3 = [[1, .2], [.2, 1]]\n",
    "x3, y3 = np.random.multivariate_normal(mean3, cov3, 100).T\n",
    "\n",
    "#Combine the three clusters into one dataset\n",
    "x=np.hstack([x1,x2,x3])\n",
    "y=np.hstack([y1,y2,y3])\n",
    "\n",
    "#Visualize the data\n",
    "fig, ax = plt.subplots(figsize=(6,4))\n",
    "ax.scatter(x, y,c='k',s=5)\n",
    "plt.title(\"Simulated Data\")\n",
    "plt.show()"
   ]
  },
  {
   "cell_type": "markdown",
   "metadata": {},
   "source": [
    "# K-means\n",
    "\n",
    "The idea is to find $K$ groups of observations (clusters), denoted by $C_k$, which are similar to one another. The mathematical objective is to partition observations into $K$ sets so as to minimize the within-cluster sum of squares:\n",
    "\n",
    "$$ Minimize \\displaystyle \\sum_{k=1}^K \\sum_{\\mathrm{x}_n \\in C_k} ||\\mathrm{x}_n - \\mu_k ||^2 with \\ respect \\ to \\ \\displaystyle C_k, \\ \\mu_k$$\n",
    "\n",
    "where $\\mu_k$ is the mean point of $C_k$, and is referred to as *centroid*."
   ]
  },
  {
   "cell_type": "markdown",
   "metadata": {},
   "source": [
    "## Approach: Iterative Refinement (Lloyd's algorithm)\n",
    "\n",
    "- Step 0: Start with an initial guess of a set of centroids $\\mu_k$.\n",
    "- Step 1: Create clusters containing points closest in distance to each centroid\n",
    "- Step 2: Update the centroids as the means of all points in each cluster.\n",
    "- Step 3: Repeat 1 and 2 until the assignments of clusters and centroids does not change (or max number of steps reached)"
   ]
  },
  {
   "cell_type": "markdown",
   "metadata": {},
   "source": [
    "## Step 0: Start with the initial guess (picked at random) "
   ]
  },
  {
   "cell_type": "code",
   "execution_count": null,
   "metadata": {},
   "outputs": [],
   "source": [
    "K=4 #Consider 4 clusters\n",
    "\n",
    "#Step 0: Initial Guess\n",
    "np.random.seed(121) #Set seed for replicability\n",
    "mu0= [ np.array((np.random.uniform(x.min(),x.max()), \\\n",
    "       np.random.uniform(y.min(),y.max()))) for i in range(K)] \n",
    "  \n",
    "print(\"Initial Guess:\")\n",
    "print(np.round(mu0,2))"
   ]
  },
  {
   "cell_type": "code",
   "execution_count": null,
   "metadata": {},
   "outputs": [],
   "source": [
    "#Visualize the data and initial guesses\n",
    "colors=['red','green','blue','cyan']\n",
    "fig, ax = plt.subplots(figsize=(6,4))\n",
    "for i,m in enumerate(mu0):\n",
    "    plt.plot(m[0],m[1],'X',label=\"initial guess for centroid \"+str(i+1),c=colors[i])\n",
    "ax.scatter(x, y, c='k',s=5)\n",
    "plt.legend(bbox_to_anchor=(1.05, 1), loc=2, borderaxespad=0.)\n",
    "plt.show()"
   ]
  },
  {
   "cell_type": "markdown",
   "metadata": {},
   "source": [
    "## Step 1: Create clusters containing points closest in distance to each centroid"
   ]
  },
  {
   "cell_type": "code",
   "execution_count": null,
   "metadata": {},
   "outputs": [],
   "source": [
    "clusters=np.empty(x.shape,dtype=int) #allocate space to keep track of the cluster each point is in"
   ]
  },
  {
   "cell_type": "code",
   "execution_count": null,
   "metadata": {},
   "outputs": [],
   "source": [
    "for i,p in enumerate(zip(x,y)): #Loop over all points and determine which centroid is the closest\n",
    "    d=np.array([np.linalg.norm(p-mu0[k]) for k in range(K)])\n",
    "    bestKindex=np.argmin(d)\n",
    "    clusters[i]=bestKindex"
   ]
  },
  {
   "cell_type": "code",
   "execution_count": null,
   "metadata": {},
   "outputs": [],
   "source": [
    "clusters"
   ]
  },
  {
   "cell_type": "code",
   "execution_count": null,
   "metadata": {},
   "outputs": [],
   "source": [
    "#Visualize the closest points\n",
    "colors=['red','green','blue','cyan']\n",
    "clrs=[colors[i] for i in clusters]\n",
    "fig, ax = plt.subplots(figsize=(6,4))\n",
    "ax.scatter(x, y,c=clrs,s=5)\n",
    "for i,m in enumerate(mu0):\n",
    "    plt.plot(m[0],m[1],'X',label=\"initial guess for centroid \"+str(i+1),c=colors[i])\n",
    "plt.legend(bbox_to_anchor=(1.05, 1), loc=2, borderaxespad=0.)\n",
    "plt.show()"
   ]
  },
  {
   "cell_type": "markdown",
   "metadata": {},
   "source": [
    "# Step 2: Update the centroids as the means of all points in each cluster."
   ]
  },
  {
   "cell_type": "code",
   "execution_count": null,
   "metadata": {},
   "outputs": [],
   "source": [
    "mu1= [np.array((np.mean(x[clusters==k]),\\\n",
    "                np.mean(y[clusters==k]))) for k in range(K)] \n",
    "print(\"Updated Guess\")\n",
    "np.round(mu1,2)"
   ]
  },
  {
   "cell_type": "code",
   "execution_count": null,
   "metadata": {},
   "outputs": [],
   "source": [
    "#Visualize the updated guesses\n",
    "colors=['red','green','blue','cyan']\n",
    "clrs=[colors[i] for i in clusters]\n",
    "fig, ax = plt.subplots(figsize=(6,4))\n",
    "ax.scatter(x, y,c=clrs,s=5)\n",
    "for i,m in enumerate(mu1):\n",
    "    plt.plot(m[0],m[1],'X',label=\"initial guess for centroid \"+str(i+1),c=colors[i])\n",
    "plt.legend(bbox_to_anchor=(1.05, 1), loc=2, borderaxespad=0.)\n",
    "plt.show()"
   ]
  },
  {
   "cell_type": "markdown",
   "metadata": {},
   "source": [
    "# Step 3: Iterate"
   ]
  },
  {
   "cell_type": "code",
   "execution_count": null,
   "metadata": {},
   "outputs": [],
   "source": [
    "diff=sum([np.linalg.norm(mu1[k]-mu0[k]) for k in range(K)])\n",
    "n=2\n",
    "nmax=100\n",
    "\n",
    "while diff>.0001 and n<nmax:\n",
    "    print(\"------------------\")\n",
    "    print(\"Iteration:\",n)\n",
    "    n+=1\n",
    "    \n",
    "    mu0=mu1\n",
    "    \n",
    "    for i,p in enumerate(zip(x,y)):\n",
    "        \n",
    "        d=np.array([np.linalg.norm(p-mu0[k]) for k in range(K)])\n",
    "        bestKindex=np.argmin(d)\n",
    "        clusters[i]=bestKindex\n",
    "    \n",
    "    mu1= [np.array((np.mean(x[clusters==k]),\\\n",
    "                    np.mean(y[clusters==k]))) for k in range(K)] \n",
    "    \n",
    "    print(\"Updated Guess:\")\n",
    "    print(np.round(mu1,2))\n",
    "    diff=sum([np.linalg.norm(mu1[k]-mu0[k]) for k in range(K)])\n",
    "    print(\"diff=\",diff)\n",
    "    \n"
   ]
  },
  {
   "cell_type": "code",
   "execution_count": null,
   "metadata": {},
   "outputs": [],
   "source": [
    "print(\"Cluster Centers:\", mu1)\n",
    "print(clusters)"
   ]
  },
  {
   "cell_type": "code",
   "execution_count": null,
   "metadata": {},
   "outputs": [],
   "source": [
    "colors=['red','green','blue','cyan']\n",
    "clrs=[colors[i] for i in clusters]\n",
    "fig, ax = plt.subplots(figsize=(6,4))\n",
    "ax.scatter(x, y,c=clrs,s=5)\n",
    "for i,m in enumerate(mu0):\n",
    "    plt.plot(m[0],m[1],'X',label=\"final guess for centroid \"+str(i+1),c=colors[i])\n",
    "    \n",
    "plt.legend(bbox_to_anchor=(1.05, 1), loc=2, borderaxespad=0.)\n",
    "plt.show()"
   ]
  },
  {
   "cell_type": "code",
   "execution_count": null,
   "metadata": {},
   "outputs": [],
   "source": [
    "#Using other libraries\n",
    "from sklearn.cluster import KMeans\n",
    "\n",
    "data=pd.DataFrame({\"x\":x,\"y\":y}) #combine data into a data frame\n",
    "\n",
    "kmeans=KMeans(n_clusters=4).fit(data[['x','y']])\n",
    "print(\"Labels:\",kmeans.labels_)\n",
    "print(\"Centers:\",kmeans.cluster_centers_)\n",
    "print(\"Inertia:\",kmeans.inertia_) #Proxy for SSE\n",
    "data['Cluster']=kmeans.labels_"
   ]
  },
  {
   "cell_type": "code",
   "execution_count": null,
   "metadata": {},
   "outputs": [],
   "source": [
    "kmeans=KMeans(n_clusters=3).fit(data[['x','y']])\n",
    "print(\"Labels:\",kmeans.labels_)\n",
    "print(\"Centers:\",kmeans.cluster_centers_)\n",
    "print(\"Inertia:\",kmeans.inertia_) #Proxy for SSE\n",
    "data['Cluster']=kmeans.labels_"
   ]
  },
  {
   "cell_type": "code",
   "execution_count": null,
   "metadata": {},
   "outputs": [],
   "source": [
    "kmeans=KMeans(n_clusters=4).fit(data[['x','y']])\n",
    "print(\"Labels:\",kmeans.labels_)\n",
    "print(\"Centers:\",kmeans.cluster_centers_)\n",
    "print(\"Inertia:\",kmeans.inertia_) #Proxy for SSE\n",
    "data['Cluster']=kmeans.labels_"
   ]
  },
  {
   "cell_type": "code",
   "execution_count": null,
   "metadata": {},
   "outputs": [],
   "source": [
    "#Determining number of clusters\n",
    "nClusters=range(2,10)\n",
    "sumDistances=[]\n",
    "for n in nClusters:\n",
    "    kmeans=KMeans(n_clusters=n).fit(data)\n",
    "    sumDistances.append(kmeans.inertia_) #Proxy for SSE"
   ]
  },
  {
   "cell_type": "code",
   "execution_count": null,
   "metadata": {},
   "outputs": [],
   "source": [
    "plt.plot(nClusters,sumDistances,'-')\n",
    "plt.xlabel('nClusters')\n",
    "plt.ylabel('Sum Of Distances')\n",
    "plt.show()"
   ]
  },
  {
   "cell_type": "code",
   "execution_count": null,
   "metadata": {},
   "outputs": [],
   "source": [
    "kmeans=KMeans(n_clusters=4).fit(data[['x','y']])\n",
    "print(kmeans.cluster_centers_)"
   ]
  },
  {
   "cell_type": "code",
   "execution_count": null,
   "metadata": {},
   "outputs": [],
   "source": []
  }
 ],
 "metadata": {
  "kernelspec": {
   "display_name": "Python 3",
   "language": "python",
   "name": "python3"
  },
  "language_info": {
   "codemirror_mode": {
    "name": "ipython",
    "version": 3
   },
   "file_extension": ".py",
   "mimetype": "text/x-python",
   "name": "python",
   "nbconvert_exporter": "python",
   "pygments_lexer": "ipython3",
   "version": "3.7.6"
  }
 },
 "nbformat": 4,
 "nbformat_minor": 2
}
