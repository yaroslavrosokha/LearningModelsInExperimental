{
 "cells": [
  {
   "cell_type": "markdown",
   "metadata": {},
   "source": [
    "### Classes\n",
    "Python is an object-oriented language. \n",
    "\n",
    "#### Overview of OOP Terminology\n",
    "\n",
    "##### Class\n",
    "A user-defined prototype for an object that defines a set of attributes that characterize any object of the class. The attributes are data members (class variables and instance variables) and methods, accessed via dot notation.\n",
    "\n",
    "##### Class variable\n",
    "A variable that is shared by all instances of a class. Class variables are defined within a class but outside any of the class's methods. Class variables are not used as frequently as instance variables are.\n",
    "\n",
    "##### <font color='red'>Data member</font>\n",
    "A class variable or instance variable that holds data associated with a class and its objects.\n",
    "\n",
    "##### Function overloading\n",
    "The assignment of more than one behavior to a particular function. The operation performed varies by the types of objects or arguments involved.\n",
    "\n",
    "##### Instance variable\n",
    "A variable that is defined inside a method and belongs only to the current instance of a class.\n",
    "\n",
    "##### Inheritance\n",
    "The transfer of the characteristics of a class to other classes that are derived from it.\n",
    "\n",
    "##### Instance\n",
    "An individual object of a certain class. An object obj that belongs to a class Circle, for example, is an instance of the class Circle.\n",
    "\n",
    "##### Instantiation\n",
    "The creation of an instance of a class.\n",
    "\n",
    "##### <font color='red'>Method</font>\n",
    "A special kind of function that is defined in a class definition.\n",
    "\n",
    "##### Object\n",
    "A unique instance of a data structure that's defined by its class. An object comprises both data members (class variables and instance variables) and methods.\n",
    "\n",
    "##### Operator overloading\n",
    "The assignment of more than one function to a particular operator.\n",
    "\n",
    "##### Creating Classes\n",
    "The class statement creates a new class definition. The name of the class immediately follows the keyword class followed by a colon as follows −"
   ]
  },
  {
   "cell_type": "code",
   "execution_count": null,
   "metadata": {},
   "outputs": [],
   "source": [
    "class ClassName:\n",
    "    'Optional class documentation string'\n",
    "    \"class_suite\""
   ]
  },
  {
   "cell_type": "markdown",
   "metadata": {},
   "source": [
    "The class has a documentation string, which can be accessed via ClassName.__doc__.\n",
    "\n",
    "The class_suite consists of all the component statements defining class members, data attributes and functions.\n",
    "\n",
    "Example:"
   ]
  },
  {
   "cell_type": "code",
   "execution_count": 1,
   "metadata": {},
   "outputs": [],
   "source": [
    "class Employee:\n",
    "    'Common base class for all employees'\n",
    "\n",
    "    def __init__(self, f_name,l_name, salary=0,start_date=\"01/01/1970\"):\n",
    "        self.first = f_name\n",
    "        self.last = l_name\n",
    "        self.salary = salary\n",
    "\n",
    "    def displayEmployee(self):\n",
    "        print(\"First Name : \", self.first, \", Last Name:\", self.last,  \", Salary: \", self.salary)"
   ]
  },
  {
   "cell_type": "code",
   "execution_count": 2,
   "metadata": {},
   "outputs": [],
   "source": [
    "emp1=Employee(\"F1\",\"L1\",start_date=\"08/29/2019\",salary=5)\n",
    "emp2=Employee(\"F2\",\"L2\",start_date=\"08/29/2019\",salary=10)"
   ]
  },
  {
   "cell_type": "code",
   "execution_count": 3,
   "metadata": {},
   "outputs": [
    {
     "data": {
      "text/plain": [
       "<__main__.Employee at 0x1f8031877c0>"
      ]
     },
     "execution_count": 3,
     "metadata": {},
     "output_type": "execute_result"
    }
   ],
   "source": [
    "emp1"
   ]
  },
  {
   "cell_type": "code",
   "execution_count": 5,
   "metadata": {},
   "outputs": [
    {
     "name": "stdout",
     "output_type": "stream",
     "text": [
      "5\n",
      "First Name :  F1 , Last Name: L1 , Salary:  5\n"
     ]
    }
   ],
   "source": [
    "print(emp1.salary)\n",
    "emp1.displayEmployee()"
   ]
  },
  {
   "cell_type": "code",
   "execution_count": null,
   "metadata": {},
   "outputs": [],
   "source": []
  },
  {
   "cell_type": "markdown",
   "metadata": {},
   "source": [
    "The variable empCount is a class variable whose value is shared among all instances of a this class. This can be accessed as Employee.empCount from inside the class or outside the class.\n",
    "\n",
    "The first method **\\__init\\__()** is a special method, which is called *class constructor* or *initialization method* that Python calls when you create a new instance of this class. You declare other class methods like normal functions with the exception that the first argument to each method is **self**. (Note: Python adds the self argument to the list for you; you do not need to include it when you call the methods.)\n",
    "\n",
    "What is self in displayEmployee(self)? It is the instance of the Employee that displayEmployee() is being called on."
   ]
  },
  {
   "cell_type": "markdown",
   "metadata": {},
   "source": [
    "**Naming conventions for Python identifiers**: Class names start with an uppercase letter. All other identifiers start with a lowercase letter."
   ]
  },
  {
   "cell_type": "code",
   "execution_count": null,
   "metadata": {},
   "outputs": [],
   "source": [
    "print(\"This would create first object of Employee class\")\n",
    "emp1 = Employee(\"Zara\", 2000)\n",
    "print(\"This would create second object of Employee class\")\n",
    "emp2 = Employee(\"Manni\", 5000)"
   ]
  },
  {
   "cell_type": "code",
   "execution_count": null,
   "metadata": {},
   "outputs": [],
   "source": [
    "#Create a list of 4 employees\n",
    "f_names=[\"a\",\"b\",\"c\",\"d\"]\n",
    "l_names=['w','x','y','z']\n",
    "sals=[1,2,3,4]\n",
    "employees=[]\n",
    "for f,l,s in zip(f_names,l_names,sals):\n",
    "    \n",
    "    employees.append(Employee(f,l,s))"
   ]
  },
  {
   "cell_type": "code",
   "execution_count": null,
   "metadata": {},
   "outputs": [],
   "source": [
    "employees"
   ]
  },
  {
   "cell_type": "code",
   "execution_count": null,
   "metadata": {},
   "outputs": [],
   "source": [
    "total=0\n",
    "for e in employees:\n",
    "    total+=e.salary\n",
    "    print(\"Name:\",e.first,\" \",e.last)\n",
    "print(\"Total:\",total)"
   ]
  },
  {
   "cell_type": "code",
   "execution_count": null,
   "metadata": {},
   "outputs": [],
   "source": [
    "sum(employees)"
   ]
  },
  {
   "cell_type": "markdown",
   "metadata": {},
   "source": [
    "## Accessing Attributes\n",
    "You access the object's attributes using the dot operator with object. Class variable would be accessed using class name as follows −"
   ]
  },
  {
   "cell_type": "code",
   "execution_count": null,
   "metadata": {},
   "outputs": [],
   "source": [
    "emp1.displayEmployee()\n",
    "emp2.displayEmployee()\n",
    "print(\"Total Employee %d\" % Employee.empCount)"
   ]
  },
  {
   "cell_type": "markdown",
   "metadata": {},
   "source": [
    "## In-class Exercises\n",
    "\n",
    "1) Modify the above class to include employee's first and last names, as well as salary and work start date.\n",
    "\n",
    "2) Create a list of 5 employees.\n",
    "\n",
    "3) Write a loop to find the sum of salaries of all employees in 2)"
   ]
  },
  {
   "cell_type": "code",
   "execution_count": null,
   "metadata": {},
   "outputs": [],
   "source": [
    "#Code goes here"
   ]
  },
  {
   "cell_type": "markdown",
   "metadata": {},
   "source": [
    "### Operator Overloading\n",
    "\n",
    "Need to copy and paste functions below into the class definition"
   ]
  },
  {
   "cell_type": "code",
   "execution_count": null,
   "metadata": {},
   "outputs": [],
   "source": [
    "def __lt__(self,other):\n",
    "    ''' Returns True if self precedes other in alphabetical order and False otherwise. \n",
    "        Less than is necessary for sort() to work on a list of objects. '''\n",
    "    return self.name<other.name"
   ]
  },
  {
   "cell_type": "code",
   "execution_count": null,
   "metadata": {},
   "outputs": [],
   "source": [
    "def __str__(self):\n",
    "    ''' Returns a nicely printable representation of the object.\n",
    "        Str is necessary for print() to work on the object.'''\n",
    "    return \"N:\"+self.name+\" S:$\"+str(round(self.salary,2))"
   ]
  },
  {
   "cell_type": "code",
   "execution_count": null,
   "metadata": {},
   "outputs": [],
   "source": [
    "def __radd__(self, other): \n",
    "    ''' Return the sum of salary and other. \n",
    "        Reverse add is necessary for sum() to work on a list of objects. '''\n",
    "    return self.salary+other"
   ]
  },
  {
   "cell_type": "markdown",
   "metadata": {},
   "source": [
    "## Exercises\n",
    "\n",
    "1) Add the above function into the class defintion\n",
    "\n",
    "2) Using a list of 5 employees test sum(), sort(), and print()\n",
    "\n",
    "3) Overload len() function to return length of the employee's name"
   ]
  },
  {
   "cell_type": "code",
   "execution_count": null,
   "metadata": {},
   "outputs": [],
   "source": [
    "#Code goes here"
   ]
  },
  {
   "cell_type": "markdown",
   "metadata": {},
   "source": [
    "### Additional Links\n",
    "\n",
    "Good explanation of classes: https://jeffknupp.com/blog/2014/06/18/improve-your-python-python-classes-and-object-oriented-programming/"
   ]
  }
 ],
 "metadata": {
  "kernelspec": {
   "display_name": "Python 3",
   "language": "python",
   "name": "python3"
  },
  "language_info": {
   "codemirror_mode": {
    "name": "ipython",
    "version": 3
   },
   "file_extension": ".py",
   "mimetype": "text/x-python",
   "name": "python",
   "nbconvert_exporter": "python",
   "pygments_lexer": "ipython3",
   "version": "3.8.3"
  }
 },
 "nbformat": 4,
 "nbformat_minor": 1
}
