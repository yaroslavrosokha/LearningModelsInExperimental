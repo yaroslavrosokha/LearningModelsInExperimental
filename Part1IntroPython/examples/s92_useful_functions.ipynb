{
 "cells": [
  {
   "cell_type": "markdown",
   "metadata": {},
   "source": [
    "# Useful Functions"
   ]
  },
  {
   "cell_type": "code",
   "execution_count": null,
   "metadata": {},
   "outputs": [],
   "source": [
    "#Create a dictionary\n",
    "paidInfo={\"Alice\":10.5,\"Bob\":7.8,\"Chris\":15.0}"
   ]
  },
  {
   "cell_type": "code",
   "execution_count": null,
   "metadata": {},
   "outputs": [],
   "source": [
    "#Define a function that calculates a tax\n",
    "def myTaxFun(x):\n",
    "    return x*.0625"
   ]
  },
  {
   "cell_type": "markdown",
   "metadata": {},
   "source": [
    "## enumerate()\n",
    "Return an enumerated sequence (index,value)"
   ]
  },
  {
   "cell_type": "code",
   "execution_count": null,
   "metadata": {},
   "outputs": [],
   "source": [
    "someList=paidInfo.values()\n",
    "for index, val in enumerate(someList):\n",
    "    print(\"index=\",index)\n",
    "    print(\"value=\",val)"
   ]
  },
  {
   "cell_type": "code",
   "execution_count": null,
   "metadata": {},
   "outputs": [],
   "source": [
    "print(list(enumerate(someList)))"
   ]
  },
  {
   "cell_type": "markdown",
   "metadata": {},
   "source": [
    "## zip()\n",
    "Returns a list of tupels where the i-th tuple contains the i-th element from each of the arguement sequences"
   ]
  },
  {
   "cell_type": "code",
   "execution_count": null,
   "metadata": {},
   "outputs": [],
   "source": [
    "pairedInfo = list(zip(paidInfo.values(),someList,[1,2,3]))\n",
    "print(pairedInfo)"
   ]
  },
  {
   "cell_type": "code",
   "execution_count": null,
   "metadata": {},
   "outputs": [],
   "source": [
    "#zip() in conjuction with * can be used to unzip a list\n",
    "x1, y1, z1 = list(zip(*pairedInfo))\n",
    "print(\"x1=\",x1,\"y1=\",y1,\"z1=\",z1)"
   ]
  },
  {
   "cell_type": "markdown",
   "metadata": {},
   "source": [
    "## filter()\n",
    "Construct a list from those element of iterable for which function returns true."
   ]
  },
  {
   "cell_type": "code",
   "execution_count": null,
   "metadata": {},
   "outputs": [],
   "source": [
    "print(paidInfo.values())\n",
    "print(paidInfo.keys())\n",
    "\n",
    "def myCheckFun(val):\n",
    "    return val[0]==\"A\"\n",
    "\n",
    "myOutput2=list(filter(myCheckFun,paidInfo.keys()))\n",
    "print(myOutput2)"
   ]
  },
  {
   "cell_type": "markdown",
   "metadata": {},
   "source": [
    "## map() \n",
    "Apply a function to every item of iterable and retun a list of the result"
   ]
  },
  {
   "cell_type": "code",
   "execution_count": null,
   "metadata": {},
   "outputs": [],
   "source": [
    "myOutput3=list(map(myTaxFun,paidInfo.values()))\n",
    "print(myOutput3)"
   ]
  },
  {
   "cell_type": "code",
   "execution_count": null,
   "metadata": {},
   "outputs": [],
   "source": []
  }
 ],
 "metadata": {
  "kernelspec": {
   "display_name": "Python 3",
   "language": "python",
   "name": "python3"
  },
  "language_info": {
   "codemirror_mode": {
    "name": "ipython",
    "version": 3
   },
   "file_extension": ".py",
   "mimetype": "text/x-python",
   "name": "python",
   "nbconvert_exporter": "python",
   "pygments_lexer": "ipython3",
   "version": "3.7.6"
  }
 },
 "nbformat": 4,
 "nbformat_minor": 2
}
