{
 "cells": [
  {
   "cell_type": "markdown",
   "metadata": {},
   "source": [
    "### Loops\n",
    "In general, statements are executed sequentially: The first statement in a function is executed first, followed by the second, and so on. There may be a situation when you need to execute a block of code several number of times. A *loop statement* allows us to execute a statement or group of statements multiple times.\n",
    "\n",
    "#### Loop Architecture\n",
    "Python provides the two types of loops to handle looping requirements.\n",
    "\n",
    "##### while loop\n",
    "Repeats a statement or group of statements while a given condition is TRUE. It tests the condition before executing the loop body."
   ]
  },
  {
   "cell_type": "code",
   "execution_count": null,
   "metadata": {},
   "outputs": [],
   "source": [
    "counter = 0\n",
    "while counter<10: # Try changing 10 to 20 and re-running this cell \n",
    "    print(\"counter=\",counter)\n",
    "    counter = counter + 1 # Try changing 1 to 3 and re-running this cell"
   ]
  },
  {
   "cell_type": "markdown",
   "metadata": {},
   "source": [
    "##### for loop\n",
    "Executes a sequence of statements multiple times and abbreviates the code that manages the loop variable."
   ]
  },
  {
   "cell_type": "code",
   "execution_count": null,
   "metadata": {},
   "outputs": [],
   "source": [
    "for counter0 in [10, 11, 12, 13]: # Try changing this list to [3,4,5] and re-running this cell\n",
    "    print(\"counter=\",counter0)"
   ]
  },
  {
   "cell_type": "markdown",
   "metadata": {},
   "source": [
    "*Note: You can use one or more loop inside any another while, for loop.*"
   ]
  },
  {
   "cell_type": "code",
   "execution_count": null,
   "metadata": {},
   "outputs": [],
   "source": [
    "counter1 = 0\n",
    "while counter1<50:\n",
    "    print(\"Outer loop counter = \", counter1)\n",
    "    for counter2 in [3, 5, 7]:\n",
    "        print(\"Inner loop counter = \", counter2)\n",
    "        print (\"Sum of the two counters during current iteration is\",counter1+counter2)\n",
    "        counter2 = counter2 + 1\n",
    "    counter1 = counter1 + 10"
   ]
  },
  {
   "cell_type": "markdown",
   "metadata": {},
   "source": [
    "## Additional Loop Control Statements\n",
    "Loop control statements change execution from its normal sequence. When execution leaves a scope, all automatic objects that were created in that scope are destroyed.Pyt hon supports the following control statements. \n",
    "\n",
    "##### break statement\n",
    "Terminates the loop statement and transfers execution to the statement immediately following the loop.\n",
    "\n",
    "##### continue statement\n",
    "Causes the loop to skip the remainder of its body and immediately retest its condition prior to reiterating.\n",
    "\n",
    "##### pass statement\n",
    "The pass statement in Python is used when a statement is required syntactically but you do not want any command or code to execute."
   ]
  },
  {
   "cell_type": "code",
   "execution_count": null,
   "metadata": {},
   "outputs": [],
   "source": [
    "for i in [1,2,3,4,5]:\n",
    "    if i==3:\n",
    "        break\n",
    "    print(i)"
   ]
  },
  {
   "cell_type": "code",
   "execution_count": null,
   "metadata": {},
   "outputs": [],
   "source": [
    "for i in [1,2,3,4,5]:\n",
    "    if i==3:\n",
    "        continue\n",
    "    print(i)"
   ]
  },
  {
   "cell_type": "code",
   "execution_count": null,
   "metadata": {},
   "outputs": [],
   "source": [
    "for i in [1,2,3,4,5]:\n",
    "    if i==3:\n",
    "        pass\n",
    "    print(i)"
   ]
  },
  {
   "cell_type": "code",
   "execution_count": null,
   "metadata": {},
   "outputs": [],
   "source": [
    "d = {\"a\":1,\"1\":2,7:\"x\"}\n",
    "\n",
    "for x in d:\n",
    "    print(x)\n",
    "    print(\"->\",d[x])"
   ]
  },
  {
   "cell_type": "code",
   "execution_count": null,
   "metadata": {},
   "outputs": [],
   "source": [
    "for x in range(3,10,5):\n",
    "    print(x)"
   ]
  },
  {
   "cell_type": "code",
   "execution_count": null,
   "metadata": {},
   "outputs": [],
   "source": []
  }
 ],
 "metadata": {
  "kernelspec": {
   "display_name": "Python 3",
   "language": "python",
   "name": "python3"
  },
  "language_info": {
   "codemirror_mode": {
    "name": "ipython",
    "version": 3
   },
   "file_extension": ".py",
   "mimetype": "text/x-python",
   "name": "python",
   "nbconvert_exporter": "python",
   "pygments_lexer": "ipython3",
   "version": "3.7.6"
  }
 },
 "nbformat": 4,
 "nbformat_minor": 2
}
