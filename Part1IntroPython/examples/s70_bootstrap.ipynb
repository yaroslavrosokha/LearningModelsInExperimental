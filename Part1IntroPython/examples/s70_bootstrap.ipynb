{
 "cells": [
  {
   "cell_type": "markdown",
   "metadata": {},
   "source": [
    "### Import Libraries"
   ]
  },
  {
   "cell_type": "code",
   "execution_count": null,
   "metadata": {},
   "outputs": [],
   "source": [
    "import pandas as pd      # package for working with data frames in python\n",
    "import seaborn as sns    # package for visualization (more on seaborn later)\n",
    "                         # to install seaborn use command line: conda install seaborn\n",
    "import numpy as np\n",
    "\n",
    "import matplotlib.pyplot as plt\n",
    "%matplotlib inline"
   ]
  },
  {
   "cell_type": "markdown",
   "metadata": {},
   "source": [
    "### Import Data"
   ]
  },
  {
   "cell_type": "code",
   "execution_count": null,
   "metadata": {},
   "outputs": [],
   "source": [
    "iris = sns.load_dataset('iris')\n",
    "df = pd.DataFrame(iris)\n",
    "g = plt.hist(df.petal_width)"
   ]
  },
  {
   "cell_type": "markdown",
   "metadata": {},
   "source": [
    "### Create a function that calculates a bootsrapped standard error of a statistic 'stat'\n",
    "Stat could be any function that calculates a statistic of interest (e.g., np.mean, np.median, np.std, etc)"
   ]
  },
  {
   "cell_type": "code",
   "execution_count": null,
   "metadata": {},
   "outputs": [],
   "source": [
    "def bootstrap_sterr(data, n_samples, stat):\n",
    "    \n",
    "    n = len(data)                                #get length of the data\n",
    "    ix = np.random.randint(0, n, (n_samples, n)) #get an array of bootsrapped indices\n",
    "    samples = data[ix]                           #create bootrapped samples\n",
    "    sterr = np.std(stat(samples, axis=1))        #calculate standard deviation of the sampling distribution of 'stat'\n",
    "    return sterr"
   ]
  },
  {
   "cell_type": "code",
   "execution_count": null,
   "metadata": {},
   "outputs": [],
   "source": [
    "#Example: calculate bootsrapped standard error of the mean of the petal_width in Iris data set\n",
    "bootstrap_sterr(np.array(df.petal_width), 10000, np.std)"
   ]
  },
  {
   "cell_type": "markdown",
   "metadata": {},
   "source": [
    "### Create a function that calculates a bootsrapped confidence interval of a statistic 'stat'\n",
    "This is done by first ordering the statistics, then selecting values at the chosen percentile for the confidence interval. The chosen percentile in this case is often called alpha."
   ]
  },
  {
   "cell_type": "code",
   "execution_count": null,
   "metadata": {},
   "outputs": [],
   "source": [
    "def bootstrap_ci(data, n_samples, stat):\n",
    "    \n",
    "    n = len(data)                                #get length of the data\n",
    "    ix = np.random.randint(0, n, (n_samples, n)) #get an array of bootsrapped indices\n",
    "    samples = data[ix]                           #create bootrapped samples\n",
    "    \n",
    "    distribution = stat(samples, axis=1)\n",
    "\n",
    "    return np.percentile(distribution,2.5),np.percentile(distribution,97.5)"
   ]
  },
  {
   "cell_type": "code",
   "execution_count": null,
   "metadata": {},
   "outputs": [],
   "source": [
    "bootstrap_ci(np.array(df.petal_width), 10000, np.mean)"
   ]
  },
  {
   "cell_type": "code",
   "execution_count": null,
   "metadata": {},
   "outputs": [],
   "source": []
  }
 ],
 "metadata": {
  "kernelspec": {
   "display_name": "Python 3",
   "language": "python",
   "name": "python3"
  },
  "language_info": {
   "codemirror_mode": {
    "name": "ipython",
    "version": 3
   },
   "file_extension": ".py",
   "mimetype": "text/x-python",
   "name": "python",
   "nbconvert_exporter": "python",
   "pygments_lexer": "ipython3",
   "version": "3.7.6"
  }
 },
 "nbformat": 4,
 "nbformat_minor": 1
}
