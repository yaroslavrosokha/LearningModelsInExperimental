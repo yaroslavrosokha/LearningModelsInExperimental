{
 "cells": [
  {
   "cell_type": "code",
   "execution_count": null,
   "metadata": {},
   "outputs": [],
   "source": [
    "#Create some data\n",
    "paidInfo={\"Alice\":10.5,\"Bob\":7.8,\"Chris\":15.0}"
   ]
  },
  {
   "cell_type": "markdown",
   "metadata": {},
   "source": [
    "Before you can read or write a file, you have to open it using **open()** function"
   ]
  },
  {
   "cell_type": "markdown",
   "metadata": {},
   "source": [
    "## write()\n",
    "\n",
    "write() method writes any string to an open file. Note that write() method does not add a newline character ('\\n') to the end of the string"
   ]
  },
  {
   "cell_type": "code",
   "execution_count": null,
   "metadata": {},
   "outputs": [],
   "source": [
    "f = open(\"output_files\\\\s30_test_file1.txt\",\"w\") #the first agrument is the file name, \n",
    "                              #the second argument is the mode of opening (r -reading only, w - writing only, ... )\n",
    "f.write(\"Name,Paid\\n\")\n",
    "for x in paidInfo:\n",
    "    f.write(str(x)+\",\"+str(paidInfo[x])+\"\\n\")\n",
    "f.close() #Check your working directory. You should see the testFile1.txt there."
   ]
  },
  {
   "cell_type": "code",
   "execution_count": null,
   "metadata": {},
   "outputs": [],
   "source": [
    "for i in range(10):\n",
    "    f = open(\"output_files\\\\\"+str(i)+\".txt\",\"w\")\n",
    "    f.write(str(i)+\"\\n\")\n",
    "    f.close()"
   ]
  },
  {
   "cell_type": "code",
   "execution_count": null,
   "metadata": {},
   "outputs": [],
   "source": []
  },
  {
   "cell_type": "markdown",
   "metadata": {},
   "source": [
    "## read()\n",
    "\n",
    "read() method reads a string from an open file."
   ]
  },
  {
   "cell_type": "code",
   "execution_count": null,
   "metadata": {},
   "outputs": [],
   "source": [
    "f = open(\"output_files\\\\s30_test_file1.txt\",\"r\")\n",
    "allFileData=f.read()\n",
    "f.close()\n",
    "\n",
    "print(allFileData) #Notice all of the data is printed"
   ]
  },
  {
   "cell_type": "code",
   "execution_count": null,
   "metadata": {},
   "outputs": [],
   "source": [
    "data=[]\n",
    "for i in range(10):\n",
    "    f = open(\"output_files//\"+str(i)+\".txt\",\"r\")\n",
    "    x=int(f.readline())\n",
    "    data.append(x)\n",
    "    print(\"x=\",x)\n",
    "    f.close()"
   ]
  },
  {
   "cell_type": "code",
   "execution_count": null,
   "metadata": {},
   "outputs": [],
   "source": [
    "data"
   ]
  },
  {
   "cell_type": "markdown",
   "metadata": {
    "collapsed": true
   },
   "source": [
    "## readline()\n",
    "\n",
    "This method reads one line from the file"
   ]
  },
  {
   "cell_type": "code",
   "execution_count": null,
   "metadata": {},
   "outputs": [],
   "source": [
    "f = open(\"output_files\\\\s30_test_file1.txt\",\"r\")\n",
    "data1=f.readline()\n",
    "data2=f.readline()\n",
    "f.close()\n",
    "\n",
    "print(\"data1:\",data1,end=\"\")\n",
    "print(\"data2:\",data2,end=\"\")"
   ]
  },
  {
   "cell_type": "code",
   "execution_count": null,
   "metadata": {},
   "outputs": [],
   "source": [
    "data1.split(\",\")"
   ]
  },
  {
   "cell_type": "markdown",
   "metadata": {},
   "source": [
    "## with\n",
    "with statement simplifies openeing a file. You don't need to close the file. And you get better readability"
   ]
  },
  {
   "cell_type": "code",
   "execution_count": null,
   "metadata": {},
   "outputs": [],
   "source": [
    "with open(\"output_files\\\\s30_test_file1.txt\",\"r\") as myFile:\n",
    "    for line in myFile:\n",
    "        print(line, end=\"\") #end=\"\" does not print the '\\n' character."
   ]
  },
  {
   "cell_type": "code",
   "execution_count": null,
   "metadata": {},
   "outputs": [],
   "source": []
  }
 ],
 "metadata": {
  "kernelspec": {
   "display_name": "Python 3",
   "language": "python",
   "name": "python3"
  },
  "language_info": {
   "codemirror_mode": {
    "name": "ipython",
    "version": 3
   },
   "file_extension": ".py",
   "mimetype": "text/x-python",
   "name": "python",
   "nbconvert_exporter": "python",
   "pygments_lexer": "ipython3",
   "version": "3.7.6"
  }
 },
 "nbformat": 4,
 "nbformat_minor": 2
}
