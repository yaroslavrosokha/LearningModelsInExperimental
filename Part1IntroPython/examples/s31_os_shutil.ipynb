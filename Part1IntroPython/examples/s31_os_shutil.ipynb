{
 "cells": [
  {
   "cell_type": "markdown",
   "metadata": {},
   "source": [
    "## os library\n",
    "Python **os** library provides functions that help you perform file-processing operations (e.g., changing working directory, renaming or deleting files)\n",
    "\n",
    "\n",
    "\n",
    "There are two ways to specify a file path.\n",
    "\n",
    "* An **absolute path**, which always begins with the root folder\n",
    "* A **relative path**, which is relative to the program’s current working directory\n",
    "\n",
    "Examples below are for the relative path approach"
   ]
  },
  {
   "cell_type": "code",
   "execution_count": null,
   "metadata": {},
   "outputs": [],
   "source": [
    "import os #To use this module you need to import it first and then you can call any related functions."
   ]
  },
  {
   "cell_type": "markdown",
   "metadata": {},
   "source": [
    "### Get current working directory"
   ]
  },
  {
   "cell_type": "code",
   "execution_count": null,
   "metadata": {},
   "outputs": [],
   "source": [
    "cwd = os.getcwd()\n",
    "print(cwd)"
   ]
  },
  {
   "cell_type": "markdown",
   "metadata": {},
   "source": [
    "### Get names of all files and folders in the current folder"
   ]
  },
  {
   "cell_type": "code",
   "execution_count": null,
   "metadata": {},
   "outputs": [],
   "source": [
    "fileNames=os.listdir() \n",
    "print(fileNames)\n",
    "print(\"There are \",len(fileNames),\" files and folders in your working directory\")"
   ]
  },
  {
   "cell_type": "markdown",
   "metadata": {},
   "source": [
    "### Checking for particular files"
   ]
  },
  {
   "cell_type": "code",
   "execution_count": null,
   "metadata": {},
   "outputs": [],
   "source": [
    "fileTypes=['.py','.ipynb','.txt']\n",
    "for ft in fileTypes:\n",
    "    counter = 0\n",
    "    for fn in fileNames:\n",
    "        if fn[-len(ft):] == ft:\n",
    "            counter+=1\n",
    "    print(\"There are \",counter,\" files of type \",ft)"
   ]
  },
  {
   "cell_type": "markdown",
   "metadata": {},
   "source": [
    "### Renaming files"
   ]
  },
  {
   "cell_type": "code",
   "execution_count": null,
   "metadata": {},
   "outputs": [],
   "source": [
    "os.rename( \"output_files\\\\s30_test_file1.txt\", \"output_files\\\\s31_test_file1_renamed.txt\" )\n",
    "# After running this cell you should check your working directory. Now there is no testFile1.txt but there is testFile2.txt"
   ]
  },
  {
   "cell_type": "markdown",
   "metadata": {},
   "source": [
    "### Creating Folders"
   ]
  },
  {
   "cell_type": "code",
   "execution_count": null,
   "metadata": {},
   "outputs": [],
   "source": [
    "#After running this cell you should check your working directory now you will see a new folder there\n",
    "os.makedirs('output_files\\\\s31_test_folder') "
   ]
  },
  {
   "cell_type": "markdown",
   "metadata": {},
   "source": [
    "### Checking if path is a directory"
   ]
  },
  {
   "cell_type": "code",
   "execution_count": null,
   "metadata": {},
   "outputs": [],
   "source": [
    "fileNames=os.listdir() \n",
    "for fn in fileNames:\n",
    "    if os.path.isdir(fn):\n",
    "        print(fn)"
   ]
  },
  {
   "cell_type": "markdown",
   "metadata": {},
   "source": [
    "### Checking file properties"
   ]
  },
  {
   "cell_type": "code",
   "execution_count": null,
   "metadata": {},
   "outputs": [],
   "source": [
    "fileNames=os.listdir() \n",
    "for fn in fileNames:\n",
    "    info = os.stat(fn)\n",
    "    print(\"File:\",fn,\"Size:\",info.st_size, \"Bytes\",\"Created:\",info.st_mtime)"
   ]
  },
  {
   "cell_type": "markdown",
   "metadata": {},
   "source": [
    "## shutil library\n",
    "Python **shutil** library offers a number of high-level operations on files and collections of files (e.g., copying, removing, archiving ,etc)"
   ]
  },
  {
   "cell_type": "code",
   "execution_count": null,
   "metadata": {},
   "outputs": [],
   "source": [
    "import shutil"
   ]
  },
  {
   "cell_type": "markdown",
   "metadata": {},
   "source": [
    "### Copy file to folder"
   ]
  },
  {
   "cell_type": "code",
   "execution_count": null,
   "metadata": {},
   "outputs": [],
   "source": [
    "shutil.copyfile(\"output_files\\\\s31_test_file1_renamed.txt\",\"output_files\\\\s31_test_folder\\\\s31_test_file1_renamed.txt\")"
   ]
  },
  {
   "cell_type": "markdown",
   "metadata": {},
   "source": [
    "### Archiving files or folders"
   ]
  },
  {
   "cell_type": "code",
   "execution_count": null,
   "metadata": {},
   "outputs": [],
   "source": [
    "shutil.make_archive(\"output_files\\\\s31_test_folder\",\"zip\",cwd+\"\\\\output_files\")"
   ]
  },
  {
   "cell_type": "markdown",
   "metadata": {},
   "source": [
    "### Unpacking archived files"
   ]
  },
  {
   "cell_type": "code",
   "execution_count": null,
   "metadata": {},
   "outputs": [],
   "source": [
    "shutil.unpack_archive(\"output_files\\\\s31_test_folder.zip\",\"output_files\\\\s31_unpacked_folder\")"
   ]
  },
  {
   "cell_type": "markdown",
   "metadata": {},
   "source": [
    "### Remove folder an all its contents"
   ]
  },
  {
   "cell_type": "code",
   "execution_count": null,
   "metadata": {},
   "outputs": [],
   "source": [
    "shutil.rmtree('output_files\\\\s31_unpacked_folder')"
   ]
  },
  {
   "cell_type": "code",
   "execution_count": null,
   "metadata": {},
   "outputs": [],
   "source": []
  }
 ],
 "metadata": {
  "kernelspec": {
   "display_name": "Python 3",
   "language": "python",
   "name": "python3"
  },
  "language_info": {
   "codemirror_mode": {
    "name": "ipython",
    "version": 3
   },
   "file_extension": ".py",
   "mimetype": "text/x-python",
   "name": "python",
   "nbconvert_exporter": "python",
   "pygments_lexer": "ipython3",
   "version": "3.7.6"
  }
 },
 "nbformat": 4,
 "nbformat_minor": 2
}
