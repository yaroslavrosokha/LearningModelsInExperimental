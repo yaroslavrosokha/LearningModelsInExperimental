{
 "cells": [
  {
   "cell_type": "code",
   "execution_count": null,
   "metadata": {},
   "outputs": [],
   "source": [
    "import time\n",
    "import numpy as np\n",
    "import matplotlib.pylab as plt #Typically matplotlib.pylab is imported as plt (shortened name)\n",
    "%matplotlib inline "
   ]
  },
  {
   "cell_type": "code",
   "execution_count": null,
   "metadata": {},
   "outputs": [],
   "source": [
    "import sys\n",
    "sys.path"
   ]
  },
  {
   "cell_type": "code",
   "execution_count": null,
   "metadata": {},
   "outputs": [],
   "source": [
    "def measureTime_In(obj):\n",
    "    startTime=time.time()\n",
    "    -1 in obj\n",
    "    endTime=time.time()\n",
    "    return endTime-startTime"
   ]
  },
  {
   "cell_type": "code",
   "execution_count": null,
   "metadata": {},
   "outputs": [],
   "source": [
    "# sizes\n",
    "sizes=range(0,1000000,100000)"
   ]
  },
  {
   "cell_type": "code",
   "execution_count": null,
   "metadata": {},
   "outputs": [],
   "source": [
    "inDict=[] #Will be saving times for dictionaries\n",
    "for s in sizes: #for each size\n",
    "    d={} #create an empty dictionary\n",
    "    for x in range(s):\n",
    "        d[x]=x #fill the dictionary\n",
    "    inDict.append(measureTime_In(d))"
   ]
  },
  {
   "cell_type": "code",
   "execution_count": null,
   "metadata": {},
   "outputs": [],
   "source": [
    "inList=[] #Will be saving times for lists\n",
    "for s in sizes: #for each size\n",
    "    l=list(range(s)) #create a list\n",
    "    inList.append(measureTime_In(l))"
   ]
  },
  {
   "cell_type": "code",
   "execution_count": null,
   "metadata": {},
   "outputs": [],
   "source": [
    "inArray=[] #Will be saving times for arrays\n",
    "for s in sizes: #for each size\n",
    "    a=np.arange(s) #create an array\n",
    "    inArray.append(measureTime_In(a))"
   ]
  },
  {
   "cell_type": "code",
   "execution_count": null,
   "metadata": {},
   "outputs": [],
   "source": [
    "ds = [inDict,inList,inArray] #these are times that will be displayed\n",
    "labs = ['Dictionary','List','Array'] #labels\n",
    "colors = ['red','green','blue'] #colors\n",
    "\n",
    "#create the three scatter plots with a loop\n",
    "for i,lab in enumerate(labs):\n",
    "        plt.scatter(sizes, ds[i],color=colors[i], label=labs[i])\n",
    "\n",
    "plt.legend(loc='upper left')\n",
    "plt.xlabel('Size of Data Structure')\n",
    "plt.ylabel('Time (in Seconds)')\n",
    "plt.show()"
   ]
  },
  {
   "cell_type": "code",
   "execution_count": null,
   "metadata": {},
   "outputs": [],
   "source": [
    "ds = [inDict,inList,inArray] #these are times that will be displayed\n",
    "labs = ['Dictionary','List','Array'] #labels\n",
    "colors = ['red','green','blue'] #colors\n",
    "\n",
    "#create the three scatter plots with a loop\n",
    "for i,lab in enumerate(labs):\n",
    "        plt.scatter(sizes, ds[i],color=colors[i], label=labs[i])\n",
    "\n",
    "plt.legend(loc='upper left')\n",
    "plt.xlabel('Size of Data Structure')\n",
    "plt.ylabel('Time (in Seconds)')\n",
    "\n",
    "plt.savefig('output_files\\\\Figure.pdf',format='pdf') #figure will be saved into output_files folder"
   ]
  },
  {
   "cell_type": "code",
   "execution_count": null,
   "metadata": {},
   "outputs": [],
   "source": []
  }
 ],
 "metadata": {
  "kernelspec": {
   "display_name": "Python 3",
   "language": "python",
   "name": "python3"
  },
  "language_info": {
   "codemirror_mode": {
    "name": "ipython",
    "version": 3
   },
   "file_extension": ".py",
   "mimetype": "text/x-python",
   "name": "python",
   "nbconvert_exporter": "python",
   "pygments_lexer": "ipython3",
   "version": "3.7.6"
  }
 },
 "nbformat": 4,
 "nbformat_minor": 2
}
