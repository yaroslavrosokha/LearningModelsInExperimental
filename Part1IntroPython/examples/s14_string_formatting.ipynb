{
 "cells": [
  {
   "cell_type": "markdown",
   "metadata": {},
   "source": [
    "# String Formatting\n",
    "\n",
    "String and Unicode objects have one unique built-in operation: the **%** operator (old style) and the **{}** operator (new style). This is also known as the string formatting or interpolation operator. Given format % and {} values (where format is a string or Unicode object), the conversion specifications in format are replaced with elements of values. "
   ]
  },
  {
   "cell_type": "code",
   "execution_count": null,
   "metadata": {},
   "outputs": [],
   "source": [
    "someText=\"string formatting\"\n",
    "print(\"Hello %s\" % someText)"
   ]
  },
  {
   "cell_type": "markdown",
   "metadata": {},
   "source": [
    "- 'd': Signed integer decimal.\t \n",
    "- 'i': Signed integer decimal.\t \n",
    "- 'o': Signed octal value.\n",
    "- 'u': Obsolete type – it is identical to 'd'.\n",
    "- 'x': Signed hexadecimal (lowercase).\n",
    "- 'X': Signed hexadecimal (uppercase).\n",
    "- 'e': Floating point exponential format (lowercase).\n",
    "- 'f': Floating point decimal format.\n",
    "- 'g': Floating point format. Uses lowercase exponential format if exponent is less than -4 or not less than precision, decimal format otherwise.\n",
    "- 'c': Single character (accepts integer or single character string).\t \n",
    "- 'r': String (converts any Python object using repr()).\n",
    "- 's': String (converts any Python object using str()).\n",
    "- '%': No argument is converted, results in a '%' character in the result."
   ]
  },
  {
   "cell_type": "code",
   "execution_count": null,
   "metadata": {},
   "outputs": [],
   "source": [
    "someText=\"number formatting\"\n",
    "someNum=123.456\n",
    "print(\"%s %.0f\" % (someText,someNum))\n",
    "print(\"%s %.1f\" % (someText,someNum))\n",
    "print(\"%s %.2f\" % (someText,someNum))"
   ]
  },
  {
   "cell_type": "markdown",
   "metadata": {},
   "source": [
    "### Old vs New format"
   ]
  },
  {
   "cell_type": "code",
   "execution_count": null,
   "metadata": {},
   "outputs": [],
   "source": [
    "'%s %s' % ('one', 'two') #old"
   ]
  },
  {
   "cell_type": "code",
   "execution_count": null,
   "metadata": {},
   "outputs": [],
   "source": [
    "'{} {}'.format('one', 'two') #new"
   ]
  },
  {
   "cell_type": "code",
   "execution_count": null,
   "metadata": {},
   "outputs": [],
   "source": [
    "'%f' % (3.141592653589793,) #old"
   ]
  },
  {
   "cell_type": "code",
   "execution_count": null,
   "metadata": {},
   "outputs": [],
   "source": [
    "'{:f}'.format(3.141592653589793) #new"
   ]
  },
  {
   "cell_type": "code",
   "execution_count": null,
   "metadata": {},
   "outputs": [],
   "source": [
    "'%06.2f' % (3.141592653589793,)"
   ]
  },
  {
   "cell_type": "code",
   "execution_count": null,
   "metadata": {},
   "outputs": [],
   "source": [
    "'{:5.2f}'.format(3.141592653589793)"
   ]
  },
  {
   "cell_type": "code",
   "execution_count": null,
   "metadata": {},
   "outputs": [],
   "source": []
  }
 ],
 "metadata": {
  "kernelspec": {
   "display_name": "Python 3",
   "language": "python",
   "name": "python3"
  },
  "language_info": {
   "codemirror_mode": {
    "name": "ipython",
    "version": 3
   },
   "file_extension": ".py",
   "mimetype": "text/x-python",
   "name": "python",
   "nbconvert_exporter": "python",
   "pygments_lexer": "ipython3",
   "version": "3.7.6"
  }
 },
 "nbformat": 4,
 "nbformat_minor": 2
}
