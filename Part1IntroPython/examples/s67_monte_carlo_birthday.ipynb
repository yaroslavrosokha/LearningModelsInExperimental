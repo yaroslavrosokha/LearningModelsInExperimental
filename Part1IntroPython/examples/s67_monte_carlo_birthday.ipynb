{
 "cells": [
  {
   "cell_type": "markdown",
   "metadata": {},
   "source": [
    "How many people would you need in a group in order for there to be a 50-50 chance that at least two people will share a birthday?"
   ]
  },
  {
   "cell_type": "code",
   "execution_count": null,
   "metadata": {},
   "outputs": [],
   "source": [
    "import numpy as np"
   ]
  },
  {
   "cell_type": "code",
   "execution_count": null,
   "metadata": {},
   "outputs": [],
   "source": [
    "groupSize=5 #determine the probability for a particular group size\n",
    "numberGroups=10000 #10 groups to start\n",
    "groups=np.random.randint(low=0,high=365,size=(numberGroups,groupSize)) #randomly generate groups of people\n",
    "print(groups)"
   ]
  },
  {
   "cell_type": "code",
   "execution_count": null,
   "metadata": {},
   "outputs": [],
   "source": [
    "groupsWithAtLeast2=0\n",
    "for g in groups: #for each group\n",
    "    uniqueMembers={} #keep track of group members\n",
    "    for mem in g:\n",
    "        if mem in uniqueMembers:\n",
    "            groupsWithAtLeast2+=1\n",
    "            break\n",
    "        else:\n",
    "            uniqueMembers[mem]=True #doesn't really matter what we assign to each key    \n",
    "\n",
    "prop=float(groupsWithAtLeast2)/numberGroups\n",
    "print(prop)"
   ]
  },
  {
   "cell_type": "code",
   "execution_count": null,
   "metadata": {},
   "outputs": [],
   "source": [
    "def getProp(groupSize,numberGroups=100000):\n",
    "    groups=np.random.randint(low=0,high=365,size=(numberGroups,groupSize))\n",
    "    \n",
    "    groupsWithAtLeast2=0\n",
    "    for g in groups: #for each group\n",
    "        uniqueMembers={} #keep track of group members\n",
    "        for mem in g:\n",
    "            if mem in uniqueMembers:\n",
    "                groupsWithAtLeast2+=1\n",
    "                break\n",
    "            else:\n",
    "                uniqueMembers[mem]=True #doesn't really matter what we assign to each key    \n",
    "\n",
    "    return float(groupsWithAtLeast2)/numberGroups"
   ]
  },
  {
   "cell_type": "code",
   "execution_count": null,
   "metadata": {},
   "outputs": [],
   "source": [
    "x=range(5,41)\n",
    "y=[]\n",
    "for groupSize in x:\n",
    "    y.append(getProp(groupSize))"
   ]
  },
  {
   "cell_type": "code",
   "execution_count": null,
   "metadata": {},
   "outputs": [],
   "source": [
    "import matplotlib.pyplot as plt\n",
    "%matplotlib inline\n",
    "\n",
    "fig = plt.figure()\n",
    "ax = fig.gca()\n",
    "ax.set_xticks(np.linspace(5, 45, 21))\n",
    "ax.set_yticks(np.linspace(0, 1, 5))\n",
    "plt.plot(x, y, ls='-', c='black', label='Proportion With At Least 2')\n",
    "plt.grid()\n",
    "plt.legend()\n",
    "plt.ylim(0,1)\n",
    "plt.xlabel('Group Size')\n",
    "plt.ylabel('Proportion')\n",
    "plt.show()"
   ]
  },
  {
   "cell_type": "code",
   "execution_count": null,
   "metadata": {},
   "outputs": [],
   "source": []
  }
 ],
 "metadata": {
  "kernelspec": {
   "display_name": "Python 3",
   "language": "python",
   "name": "python3"
  },
  "language_info": {
   "codemirror_mode": {
    "name": "ipython",
    "version": 3
   },
   "file_extension": ".py",
   "mimetype": "text/x-python",
   "name": "python",
   "nbconvert_exporter": "python",
   "pygments_lexer": "ipython3",
   "version": "3.7.6"
  }
 },
 "nbformat": 4,
 "nbformat_minor": 2
}
