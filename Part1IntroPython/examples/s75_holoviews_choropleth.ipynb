{
 "cells": [
  {
   "cell_type": "markdown",
   "metadata": {},
   "source": [
    "# Interactive Visualization\n",
    "\n",
    "In this lecture we will use [**Bokeh**](http://docs.bokeh.org/en/latest/) and [**HoloViews**](https://holoviews.org/), which are some of the newest libraries so make sure your version and dependencies are up to date. The recommended way to install/update the library (and all libraries that it depends on) is to run the following command in the anaconda command prompt:\n",
    "> conda install -c pyviz holoviews bokeh"
   ]
  },
  {
   "cell_type": "markdown",
   "metadata": {
    "slideshow": {
     "slide_type": "slide"
    }
   },
   "source": [
    "# Visualizing Geo Data\n",
    "\n",
    "*Wikipedia:* A **choropleth map** (from Greek χῶρος (\"area/region\") + πλῆθος (\"multitude\")) is a thematic map in which areas are shaded or patterned in proportion to the measurement of the statistical variable being displayed on the map, such as population density or per-capita income.\n",
    "\n",
    "Choropleth maps provide an easy way to visualize how a measurement varies across a geographic area or show the level of variability within a region. \n",
    "\n",
    "We will use [HoloViews](http://holoviews.org/gallery/demos/bokeh/texas_choropleth_example.html) to create choropleth in Jupyter Notebooks."
   ]
  },
  {
   "cell_type": "markdown",
   "metadata": {
    "slideshow": {
     "slide_type": "subslide"
    }
   },
   "source": [
    "## Getting Started"
   ]
  },
  {
   "cell_type": "markdown",
   "metadata": {},
   "source": [
    "### Load Libraries"
   ]
  },
  {
   "cell_type": "code",
   "execution_count": null,
   "metadata": {},
   "outputs": [],
   "source": [
    "import pandas as pd\n",
    "import numpy as np\n",
    "import holoviews as hv\n",
    "hv.notebook_extension('bokeh')"
   ]
  },
  {
   "cell_type": "code",
   "execution_count": null,
   "metadata": {},
   "outputs": [],
   "source": [
    "import bokeh.sampledata"
   ]
  },
  {
   "cell_type": "markdown",
   "metadata": {},
   "source": [
    "### Get Data"
   ]
  },
  {
   "cell_type": "code",
   "execution_count": null,
   "metadata": {},
   "outputs": [],
   "source": [
    "from bokeh.sampledata.us_states import data as states\n",
    "\n",
    "state_xs = [states[code][\"lons\"] for code in states if code not in ['HI','AK']]\n",
    "state_ys = [states[code][\"lats\"] for code in states if code not in ['HI','AK']]"
   ]
  },
  {
   "cell_type": "markdown",
   "metadata": {
    "slideshow": {
     "slide_type": "slide"
    }
   },
   "source": [
    "## Create a basic map"
   ]
  },
  {
   "cell_type": "code",
   "execution_count": null,
   "metadata": {},
   "outputs": [],
   "source": [
    "from bokeh.plotting import figure, output_notebook, show\n",
    "p = figure(title=\"US Map\", toolbar_location=\"left\",plot_width=800, plot_height=500)\n",
    "p.patches(state_xs, state_ys, fill_alpha=0.0,line_color=\"#884444\", line_width=2, line_alpha=0.3)\n",
    "output_notebook()\n",
    "show(p)"
   ]
  },
  {
   "cell_type": "markdown",
   "metadata": {
    "slideshow": {
     "slide_type": "slide"
    }
   },
   "source": [
    "### Customizing Maps"
   ]
  },
  {
   "cell_type": "code",
   "execution_count": null,
   "metadata": {},
   "outputs": [],
   "source": [
    "dat = list(states.values())\n",
    "out=[] #<------ this is where I will store the data for visualization\n",
    "for d in dat:\n",
    "    if d['name'] not in ['Alaska','Hawaii']:\n",
    "        d['randomNumber']=np.random.random()\n",
    "        d['someText']=\"ABC_\"+str(d['name'])\n",
    "        d['averageLon']=np.abs(np.nanmean(d['lons'])/200) \n",
    "        out.append(d)"
   ]
  },
  {
   "cell_type": "code",
   "execution_count": null,
   "metadata": {},
   "outputs": [],
   "source": [
    "np.nanmean(d['lons'])"
   ]
  },
  {
   "cell_type": "code",
   "execution_count": null,
   "metadata": {},
   "outputs": [],
   "source": [
    "choropleth = hv.Polygons(out, ['lons', 'lats'], [('name', 'State'),('averageLon','averageLon'),('someText','TEXT')]) #(key in dat, display name)\n",
    "choropleth.options(logz=True, tools=['hover'], xaxis=None, yaxis=None,\n",
    "                   show_grid=False, show_frame=False, width=575, height=400,\n",
    "                   colorbar=False, toolbar='above', line_color='black',\n",
    "                   color_index='averageLon',cmap=\"gray\") #more cmaps: https://matplotlib.org/examples/color/colormaps_reference.html"
   ]
  },
  {
   "cell_type": "code",
   "execution_count": null,
   "metadata": {},
   "outputs": [],
   "source": [
    "choropleth = hv.Polygons(out, ['lons', 'lats']) #(key in dat, display name)\n",
    "choropleth.options(logz=True, cmap=\"gray\")"
   ]
  },
  {
   "cell_type": "markdown",
   "metadata": {
    "slideshow": {
     "slide_type": "slide"
    }
   },
   "source": [
    "## Another Example"
   ]
  },
  {
   "cell_type": "code",
   "execution_count": null,
   "metadata": {},
   "outputs": [],
   "source": [
    "#Get data from csv files\n",
    "import pandas as pd\n",
    "unEmp = pd.read_csv(\"data_files\\\\unemployment09.csv\",header=None)\n",
    "counties = pd.read_csv(\"data_files\\\\us_counties.csv\")\n",
    "merged_data=counties.merge(unEmp,left_on=[\"STATE num\",\"COUNTY num\"],right_on=[1,2])\n",
    "indiana = merged_data[merged_data['State Abbr.']=='IN']"
   ]
  },
  {
   "cell_type": "code",
   "execution_count": null,
   "metadata": {},
   "outputs": [],
   "source": [
    "def get_lons(entry):\n",
    "    step1=entry.split(\"<coordinates>\")[1].split(\"</coordinates>\")[0].split(\" \")\n",
    "    return [float(x.split(\",\")[0]) for x in step1]\n",
    "\n",
    "def get_lats(entry):\n",
    "    step1=entry.split(\"<coordinates>\")[1].split(\"</coordinates>\")[0].split(\" \")\n",
    "    return [float(x.split(\",\")[1]) for x in step1]\n",
    "\n",
    "def get_data(row):\n",
    "    return dict(name=row['County Name'],\n",
    "            lons=get_lons(row['geometry']),\n",
    "            lats=get_lats(row['geometry']),\n",
    "            unemployment=row[8])"
   ]
  },
  {
   "cell_type": "code",
   "execution_count": null,
   "metadata": {},
   "outputs": [],
   "source": [
    "#organize data into a format that holoviews polygos can visualize\n",
    "data = [get_data(row) for i,row in indiana.iterrows()]"
   ]
  },
  {
   "cell_type": "code",
   "execution_count": null,
   "metadata": {},
   "outputs": [],
   "source": [
    "choropleth = hv.Polygons(data, ['lons', 'lats'], [('name', 'County'), ('unemployment','Unemployment')]) #(name in data, display name)\n",
    "plot = choropleth.options(logz=True, tools=['hover'], xaxis=None, yaxis=None,\n",
    "                   show_grid=False, show_frame=False, width=275, height=400,\n",
    "                   color_index='Unemployment', colorbar=False, toolbar='above', line_color='black')"
   ]
  },
  {
   "cell_type": "code",
   "execution_count": null,
   "metadata": {},
   "outputs": [],
   "source": [
    "hv.save(plot,\"output_files\\\\s75_example_indiana_counties\",fmt='html')"
   ]
  },
  {
   "cell_type": "code",
   "execution_count": null,
   "metadata": {},
   "outputs": [],
   "source": []
  }
 ],
 "metadata": {
  "kernelspec": {
   "display_name": "Python 3",
   "language": "python",
   "name": "python3"
  },
  "language_info": {
   "codemirror_mode": {
    "name": "ipython",
    "version": 3
   },
   "file_extension": ".py",
   "mimetype": "text/x-python",
   "name": "python",
   "nbconvert_exporter": "python",
   "pygments_lexer": "ipython3",
   "version": "3.7.6"
  }
 },
 "nbformat": 4,
 "nbformat_minor": 1
}
