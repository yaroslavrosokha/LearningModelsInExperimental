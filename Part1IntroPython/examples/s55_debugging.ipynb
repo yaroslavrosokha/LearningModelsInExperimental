{
 "cells": [
  {
   "cell_type": "markdown",
   "metadata": {},
   "source": [
    "## Debugging with **pdb**\n",
    "\n",
    "The module pdb provides an interactive debugger for Python programs.\n",
    "\n",
    "    - h or help -- prints list of available commands\n",
    "    - n or next -- continue to next line\n",
    "    - s or step-- execute the current line, stop at the first possible occasion\n",
    "    - c or continue -- continue the program (only stop when a breakpoint is encoutnered\n",
    "    - q or quit or exit -- abort the program\n",
    "    \n",
    "    Lots more at: https://docs.python.org/3/library/pdb.html\n",
    "    "
   ]
  },
  {
   "cell_type": "code",
   "execution_count": null,
   "metadata": {},
   "outputs": [],
   "source": [
    "import pdb\n",
    "\n",
    "#Create a function\n",
    "def fib1(n): #Fibonacci sequence up to (and including) integer n\n",
    "    a = 0 #starts with 0 and 1\n",
    "    b = 1 \n",
    "    while a <= n: \n",
    "        tempVar=a\n",
    "        a=b \n",
    "        b = tempVar+a \n",
    "        pdb.set_trace() #<-------"
   ]
  },
  {
   "cell_type": "code",
   "execution_count": null,
   "metadata": {},
   "outputs": [],
   "source": [
    "fib1(20)"
   ]
  },
  {
   "cell_type": "markdown",
   "metadata": {},
   "source": [
    "### Debugging with IPython debugger"
   ]
  },
  {
   "cell_type": "code",
   "execution_count": null,
   "metadata": {},
   "outputs": [],
   "source": [
    "from IPython.core.debugger import set_trace\n",
    "\n",
    "#Create a function\n",
    "def fib2(n): #Fibonacci sequence up to (and including) integer n\n",
    "    a = 0 #starts with 0 and 1\n",
    "    b = 1 \n",
    "    while a <= n: \n",
    "        tempVar = a\n",
    "        a = b \n",
    "        b = tempVar + a \n",
    "        set_trace()\n"
   ]
  },
  {
   "cell_type": "code",
   "execution_count": null,
   "metadata": {},
   "outputs": [],
   "source": [
    "fib2(20)"
   ]
  },
  {
   "cell_type": "markdown",
   "metadata": {},
   "source": [
    "### Debuging with IPython Magic "
   ]
  },
  {
   "cell_type": "code",
   "execution_count": null,
   "metadata": {},
   "outputs": [],
   "source": [
    "#Create a function\n",
    "def fib3(n): #Fibonacci sequence up to (and including) integer n\n",
    "    a = 0 #starts with 0 and 1\n",
    "    b = 1 \n",
    "    while a <= n: \n",
    "        tempVar = a\n",
    "        a = b \n",
    "        b = tempVar + a "
   ]
  },
  {
   "cell_type": "code",
   "execution_count": null,
   "metadata": {},
   "outputs": [],
   "source": [
    "%debug fib3(20)"
   ]
  },
  {
   "cell_type": "code",
   "execution_count": null,
   "metadata": {},
   "outputs": [],
   "source": [
    "%%debug \n",
    "\n",
    "fib3(20)\n",
    "fib3(15)"
   ]
  },
  {
   "cell_type": "code",
   "execution_count": null,
   "metadata": {},
   "outputs": [],
   "source": []
  }
 ],
 "metadata": {
  "kernelspec": {
   "display_name": "Python 3",
   "language": "python",
   "name": "python3"
  },
  "language_info": {
   "codemirror_mode": {
    "name": "ipython",
    "version": 3
   },
   "file_extension": ".py",
   "mimetype": "text/x-python",
   "name": "python",
   "nbconvert_exporter": "python",
   "pygments_lexer": "ipython3",
   "version": "3.7.6"
  }
 },
 "nbformat": 4,
 "nbformat_minor": 2
}
