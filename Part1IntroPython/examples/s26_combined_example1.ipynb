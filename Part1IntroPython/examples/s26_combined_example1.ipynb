{
 "cells": [
  {
   "cell_type": "markdown",
   "metadata": {},
   "source": [
    "## Working with Lists and Dictionaries"
   ]
  },
  {
   "cell_type": "markdown",
   "metadata": {},
   "source": [
    "### Step-by-Step: Loops"
   ]
  },
  {
   "cell_type": "code",
   "execution_count": null,
   "metadata": {},
   "outputs": [],
   "source": [
    "#Create a dictionary\n",
    "paidInfo={\"Alice\":10.5,\"Bob\":7.8,\"Chris\":15.0}"
   ]
  },
  {
   "cell_type": "code",
   "execution_count": null,
   "metadata": {},
   "outputs": [],
   "source": [
    "#Define a function that calculates a tax\n",
    "def myTaxFun(x):\n",
    "    return x*.07"
   ]
  },
  {
   "cell_type": "code",
   "execution_count": null,
   "metadata": {},
   "outputs": [],
   "source": [
    "#get values of the dictionary\n",
    "paidInfo.values()"
   ]
  },
  {
   "cell_type": "code",
   "execution_count": null,
   "metadata": {},
   "outputs": [],
   "source": [
    "#you can iterate over values using for loop\n",
    "for item in paidInfo.values():\n",
    "    print(\"item price: $\",item)\n",
    "    \n",
    "    tax=myTaxFun(item)\n",
    "    print(\"tax: $\",tax)\n",
    "    if abs(tax-.735)<.00000000000001:\n",
    "        print(\"Tax is .735\")\n",
    "    else:\n",
    "        print(\"Tax is not .735\")"
   ]
  },
  {
   "cell_type": "code",
   "execution_count": null,
   "metadata": {},
   "outputs": [],
   "source": [
    "#you can iterate over keys\n",
    "for k in paidInfo:\n",
    "    print(\"key=\",k)\n",
    "    print(\"value=\",paidInfo[k]) #you can also access values\n",
    "    print(myTaxFun(paidInfo[k]))"
   ]
  },
  {
   "cell_type": "code",
   "execution_count": null,
   "metadata": {},
   "outputs": [],
   "source": [
    "#Example of storing the output in list\n",
    "myOutput=[] #create empty list\n",
    "for key in paidInfo: #for each key in paidInfo dictionary\n",
    "    myOutput.append(myTaxFun(paidInfo[key]))\n",
    "print(myOutput)"
   ]
  },
  {
   "cell_type": "code",
   "execution_count": null,
   "metadata": {},
   "outputs": [],
   "source": [
    "#Example of calculating the sum\n",
    "sum(myOutput)"
   ]
  },
  {
   "cell_type": "code",
   "execution_count": null,
   "metadata": {},
   "outputs": [],
   "source": []
  },
  {
   "cell_type": "code",
   "execution_count": null,
   "metadata": {},
   "outputs": [],
   "source": []
  },
  {
   "cell_type": "code",
   "execution_count": null,
   "metadata": {},
   "outputs": [],
   "source": []
  }
 ],
 "metadata": {
  "kernelspec": {
   "display_name": "Python 3",
   "language": "python",
   "name": "python3"
  },
  "language_info": {
   "codemirror_mode": {
    "name": "ipython",
    "version": 3
   },
   "file_extension": ".py",
   "mimetype": "text/x-python",
   "name": "python",
   "nbconvert_exporter": "python",
   "pygments_lexer": "ipython3",
   "version": "3.7.6"
  }
 },
 "nbformat": 4,
 "nbformat_minor": 2
}
