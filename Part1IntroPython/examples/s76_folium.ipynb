{
 "cells": [
  {
   "cell_type": "markdown",
   "metadata": {
    "slideshow": {
     "slide_type": "slide"
    }
   },
   "source": [
    "# Visualizing Data On a Map"
   ]
  },
  {
   "cell_type": "markdown",
   "metadata": {},
   "source": [
    "[Folium](https://python-visualization.github.io/folium/) library is another great way to visualize data on a map. Can bind data to a map for choropleth visualization as well as passing markers on the map.\n",
    "- conda install -c conda-forge folium\n",
    "\n",
    "For this example, I will use the dataset of 10,000 traffic violations issued in the Montgomery County of Maryland. Full dataset is [here](https://catalog.data.gov/dataset/traffic-violations-56dda)"
   ]
  },
  {
   "cell_type": "code",
   "execution_count": null,
   "metadata": {
    "slideshow": {
     "slide_type": "fragment"
    }
   },
   "outputs": [],
   "source": [
    "import pandas as pd\n",
    "stops = pd.read_csv(\"data_files\\\\traffic_violations.csv\", index_col=False) #Note index_col=False \n",
    "stops.head()"
   ]
  },
  {
   "cell_type": "markdown",
   "metadata": {
    "slideshow": {
     "slide_type": "slide"
    }
   },
   "source": [
    "## Creating a Map"
   ]
  },
  {
   "cell_type": "code",
   "execution_count": null,
   "metadata": {},
   "outputs": [],
   "source": [
    "import folium #Import library\n",
    "map_wl = folium.Map(location=[40.425869, -86.908066],zoom_start=15)\n",
    "map_wl"
   ]
  },
  {
   "cell_type": "code",
   "execution_count": null,
   "metadata": {
    "slideshow": {
     "slide_type": "subslide"
    }
   },
   "outputs": [],
   "source": [
    "folium.Map?"
   ]
  },
  {
   "cell_type": "markdown",
   "metadata": {
    "slideshow": {
     "slide_type": "slide"
    }
   },
   "source": [
    "### Visualize Traffic Violations on a map"
   ]
  },
  {
   "cell_type": "code",
   "execution_count": null,
   "metadata": {},
   "outputs": [],
   "source": [
    "#Drop all rows that don't contain latitude or longitude data\n",
    "stops=stops.dropna(subset=['Latitude','Longitude'])\n",
    "stops.head()"
   ]
  },
  {
   "cell_type": "code",
   "execution_count": null,
   "metadata": {
    "slideshow": {
     "slide_type": "subslide"
    }
   },
   "outputs": [],
   "source": [
    "from folium import plugins\n",
    "stops_heatmap = folium.Map(location=[39.0836, -77.1483], zoom_start=11)\n",
    "stops_heatmap.add_child(plugins.HeatMap([[row[\"Latitude\"],row[\"Longitude\"]] for name, row in stops.iterrows()]))\n",
    "stops_heatmap.save(\"output_files\\\\heatmap.html\") #<------- save to an html file\n",
    "stops_heatmap #<------- display in jupter notebook output cell"
   ]
  },
  {
   "cell_type": "code",
   "execution_count": null,
   "metadata": {},
   "outputs": [],
   "source": []
  }
 ],
 "metadata": {
  "anaconda-cloud": {},
  "kernelspec": {
   "display_name": "Python 3",
   "language": "python",
   "name": "python3"
  },
  "language_info": {
   "codemirror_mode": {
    "name": "ipython",
    "version": 3
   },
   "file_extension": ".py",
   "mimetype": "text/x-python",
   "name": "python",
   "nbconvert_exporter": "python",
   "pygments_lexer": "ipython3",
   "version": "3.7.6"
  }
 },
 "nbformat": 4,
 "nbformat_minor": 1
}
