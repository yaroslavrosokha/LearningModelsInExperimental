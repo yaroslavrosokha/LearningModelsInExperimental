{
 "cells": [
  {
   "cell_type": "markdown",
   "metadata": {},
   "source": [
    "# Data Visualization"
   ]
  },
  {
   "cell_type": "markdown",
   "metadata": {},
   "source": [
    "## matplotlib library"
   ]
  },
  {
   "cell_type": "code",
   "execution_count": null,
   "metadata": {},
   "outputs": [],
   "source": [
    "import matplotlib.pylab as plt #Typically matplotlib.pylab is imported as plt (shortened name)\n",
    "#%matplotlib inline \n",
    "#The above line is necessary so that figures are displayed on the webpage instead of separate pop-ups"
   ]
  },
  {
   "cell_type": "markdown",
   "metadata": {},
   "source": [
    "## Scatter Plot\n",
    "https://matplotlib.org/api/pyplot_api.html#matplotlib.pyplot.scatter"
   ]
  },
  {
   "cell_type": "code",
   "execution_count": null,
   "metadata": {},
   "outputs": [],
   "source": [
    "import pandas as pd\n",
    "data = pd.read_csv('data_files\\\\cars_data.csv') # Import cars data\n",
    "print(data.head()) #Check first 5 rows of the data to make sure everythin is alright"
   ]
  },
  {
   "cell_type": "code",
   "execution_count": null,
   "metadata": {},
   "outputs": [],
   "source": [
    "# Basic scatter plot\n",
    "plt.scatter(data.horsepower, data.mpg)\n",
    "plt.xlabel('Horsepower')\n",
    "plt.ylabel('Miles Per Gallon')\n",
    "plt.show()"
   ]
  },
  {
   "cell_type": "markdown",
   "metadata": {},
   "source": [
    "## Pie Chart\n",
    "\n",
    "https://matplotlib.org/api/pyplot_api.html#matplotlib.pyplot.pie"
   ]
  },
  {
   "cell_type": "code",
   "execution_count": null,
   "metadata": {},
   "outputs": [],
   "source": [
    "# Data to plot\n",
    "labs = ['Python', 'C++', 'Ruby', 'Java']\n",
    "sizes = [215, 130, 245, 210]"
   ]
  },
  {
   "cell_type": "code",
   "execution_count": null,
   "metadata": {},
   "outputs": [],
   "source": [
    "# Basic pie chart\n",
    "plt.pie(sizes, labels=labs)\n",
    "plt.show()"
   ]
  },
  {
   "cell_type": "code",
   "execution_count": null,
   "metadata": {},
   "outputs": [],
   "source": [
    "# .pie() function has many parameters see: https://matplotlib.org/api/pyplot_api.html#matplotlib.pyplot.pie\n",
    "# Here is a more elaborate example with other parameters\n",
    "\n",
    "colors = ['gold', 'yellowgreen', 'lightcoral', 'lightskyblue'] #pick some four colors\n",
    "explode = (0.1, 0, 0.0, 0)  # explode 1st slice\n",
    "# Plot\n",
    "plt.pie(sizes, explode=explode, labels=labs, colors=colors, autopct='%1.1f%%', shadow=True, startangle=140)\n",
    "plt.axis('equal') #so that it is a circle \n",
    "plt.show()"
   ]
  },
  {
   "cell_type": "markdown",
   "metadata": {},
   "source": [
    "## Histogram\n",
    "https://matplotlib.org/api/pyplot_api.html#matplotlib.pyplot.hist"
   ]
  },
  {
   "cell_type": "code",
   "execution_count": null,
   "metadata": {},
   "outputs": [],
   "source": [
    "import pandas as pd\n",
    "data = pd.read_csv('data_files\\\\cars_data.csv') # Import cars data\n",
    "print(data.head()) #Check first 5 rows of the data to make sure everythin is alright"
   ]
  },
  {
   "cell_type": "code",
   "execution_count": null,
   "metadata": {},
   "outputs": [],
   "source": [
    "# Basic histogram of the mpg\n",
    "plt.hist(data.mpg)\n",
    "plt.xlabel('Miles Per Galon')\n",
    "plt.ylabel('Count')\n",
    "plt.show()"
   ]
  },
  {
   "cell_type": "code",
   "execution_count": null,
   "metadata": {},
   "outputs": [],
   "source": [
    "# A more extansive example of bar chart by characteristic\n",
    "meansAmerica = data[data.origin==\"America\"].mean() \n",
    "meansAsia = data[data.origin==\"Asia\"].mean() \n",
    " \n",
    "# create plot\n",
    "fig, ax = plt.subplots()\n",
    "bar_width = 0.35\n",
    "opacity = 0.8\n",
    "locAmerica = range(len(meansAmerica))\n",
    "locAsia=[x+bar_width for x in locAmerica]\n",
    "locLabel=[x+bar_width/2 for x in locAmerica]\n",
    "\n",
    "rects1 = plt.bar(locAmerica, meansAmerica, bar_width,alpha=opacity,color='r',label='America')\n",
    "rects2 = plt.bar(locAsia, meansAsia, bar_width,alpha=opacity,color='g',label='Asia')\n",
    " \n",
    "plt.xlabel('Attribute')\n",
    "plt.ylabel('Average Length')\n",
    "plt.title('Comparison between America and Asia')\n",
    "plt.xticks(locLabel, meansAmerica.index,rotation=40)\n",
    "plt.legend()\n",
    "plt.tight_layout()\n",
    "plt.show()"
   ]
  },
  {
   "cell_type": "code",
   "execution_count": null,
   "metadata": {},
   "outputs": [],
   "source": []
  },
  {
   "cell_type": "code",
   "execution_count": null,
   "metadata": {},
   "outputs": [],
   "source": []
  },
  {
   "cell_type": "code",
   "execution_count": null,
   "metadata": {},
   "outputs": [],
   "source": []
  }
 ],
 "metadata": {
  "kernelspec": {
   "display_name": "Python 3",
   "language": "python",
   "name": "python3"
  },
  "language_info": {
   "codemirror_mode": {
    "name": "ipython",
    "version": 3
   },
   "file_extension": ".py",
   "mimetype": "text/x-python",
   "name": "python",
   "nbconvert_exporter": "python",
   "pygments_lexer": "ipython3",
   "version": "3.7.6"
  }
 },
 "nbformat": 4,
 "nbformat_minor": 1
}
